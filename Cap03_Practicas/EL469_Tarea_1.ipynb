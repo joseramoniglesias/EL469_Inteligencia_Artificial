{
 "nbformat": 4,
 "nbformat_minor": 0,
 "metadata": {
  "colab": {
   "name": "Tarea_1_CC6204_2019",
   "version": "0.3.2",
   "provenance": [],
   "toc_visible": true
  },
  "kernelspec": {
   "name": "python3",
   "display_name": "Python 3"
  },
  "accelerator": "GPU"
 },
 "cells": [
  {
   "cell_type": "markdown",
   "metadata": {
    "id": "4zhjpqvcdo5o",
    "colab_type": "text"
   },
   "source": [
    "# Tarea 1: Activaciones y pasada hacia adelante en una red neuronal <br/>  \n",
    "## Deep Learning <a class=\"tocSkip\">\n",
    "### Ingenieria Electrónica <a class=\"tocSkip\">\n",
    "### Universidad Popular del Cesar <a class=\"tocSkip\">\n",
    "### Prof.: Jose Ramón Iglesias Gamarra - [https://github.com/joseramoniglesias/](https://github.com/joseramoniglesias/) <a class=\"tocSkip\">\n",
    "  **joseiglesias@unicesar.edu.co**\n",
    "\n",
    "En las primeras tareas del curso **progamarás a mano** varios aspectos de redes neuronales Feed Forward. La idea es familiarizarse con tensores, funciones de activación, derivadas, el algoritmo de backpropagation, algoritmos de optimización, regularización, entrenamiento, y búsqueda de hiperparámetros. No se espera obtener excelentes resultados en problemas de clasificación reales, si no más bien aplicar los conceptos teóricos aprendidos en clases y así entenderlos de manera más precisa.  En esta primera tarea sólo nos preocupará la función `forward` de una red neuronal y usaremos una red pre-entrenada para el conjunto de datos MNIST. \n",
    "\n",
    "Te recomendamos que comiences por familiarizarte un poco con [tensores de pytorch](https://pytorch.org/docs/stable/tensors.html) y sus operaciones, que son el objeto básico que usaremos en esta y las siguientes tareas. El material necesario para resolver esta tarea es el siguiente:\n",
    "* [Video: intro a redes Feed Forward](https://www.youtube.com/watch?v=oCGB8wVej-I) (hasta el minuto 40:00 y desde el minuto 1:09:00)\n",
    "* [Video: función de error/pérdida y entrenamiento](https://www.youtube.com/watch?v=tONNKS2En9c) (hasta el minuto 29:00)\n",
    "\n",
    "IMPORTANTE: A menos que se exprese lo contrario, sólo podrás utilizar las clases y funciones en el módulo [`torch`](https://pytorch.org/docs/stable/torch.html). Hay excepciones explicadas en el enunciado de la tarea más adelante. \n",
    "\n"
   ]
  },
  {
   "cell_type": "code",
   "metadata": {
    "id": "I_kVL7undMBx",
    "colab_type": "code",
    "colab": {}
   },
   "source": [
    "# Este notebook está pensado para correr en CoLaboratory. \n",
    "# Lo único imprescindible por importar es torch \n",
    "import torch\n",
    "\n",
    "# Posiblemenete quieras instalar e importar ipdb para debuggear.\n",
    "# Si es así, descomenta lo siguiente:\n",
    "# !pip install -q ipdb\n",
    "# import ipdb"
   ],
   "execution_count": 0,
   "outputs": []
  },
  {
   "cell_type": "markdown",
   "metadata": {
    "id": "2xbEy3Php0a2",
    "colab_type": "text"
   },
   "source": [
    "# Parte 1: Funciones de activación y función de salida\n",
    "\n",
    "En esta parte programarás varias funciones que serán de utilidad cuando construyas tu red neuronal. Una cosa **muy importante en esta y las siguientes partes**: evita los loops (`for`, `while`, etc.) a toda costa! todo lo que se pueda hacer con operaciones de tensores sin iterar será muy eficiente (en CPU y GPU)."
   ]
  },
  {
   "cell_type": "markdown",
   "metadata": {
    "id": "p3nKwdzpqF2y",
    "colab_type": "text"
   },
   "source": [
    "## 1a) Funciones de activación\n",
    "\n",
    "En esta parte debes programar las siguientes funciones de activación:\n",
    "\n",
    "*   `relu`, que para cada valor $x$ en un tensor computa el máximo entre $0$ y $x$,  \n",
    "*   `swish`, propuesta en el artículo [Searching for Activation Functions](https://arxiv.org/abs/1710.05941), y\n",
    "*   `celu`, propuesta en el artículo [Continuously Differentiable Exponential Linear Units](https://arxiv.org/abs/1704.07483).\n",
    "\n",
    "En cada caso tu función debe recibir un tensor (de cualquier cantidad de dimensiones) y entregar un tensor con la función aplicada a todos sus elementos. La aplicación de las funciones debe ser *punto a punto*, por lo que el tensor de salida de cada función debe tener las mismas dimensiones que el tensor de entrada. **Importante**:  tanto `swish` como `celu` tienen un parámetro que puede modificarse durante el entrenamiento de una red que utilice estas funciones de activación por lo que para estas funciones además del tensor debes recibir el parámetro correspondiente. \n",
    "\n",
    "Como ejemplo, estas son implementaciones de las funciones `sig` y `tanh`."
   ]
  },
  {
   "cell_type": "code",
   "metadata": {
    "id": "p80-9lwaUAix",
    "colab_type": "code",
    "colab": {}
   },
   "source": [
    "def sig(T):\n",
    "  return torch.reciprocal(1 + torch.exp(-1 * T))\n",
    "\n",
    "def tanh(T):\n",
    "  E = torch.exp(T)\n",
    "  e = torch.exp(-1 * T)\n",
    "  return (E - e) * torch.reciprocal(E + e)"
   ],
   "execution_count": 0,
   "outputs": []
  },
  {
   "cell_type": "code",
   "metadata": {
    "id": "4VtQWFePbtrF",
    "colab_type": "code",
    "colab": {}
   },
   "source": [
    "# Tu código acá\n",
    "\n",
    "def relu(T):\n",
    "  pass\n",
    "\n",
    "def swish(T, ...):\n",
    "  pass\n",
    "\n",
    "def celu(T, ...):\n",
    "  pass"
   ],
   "execution_count": 0,
   "outputs": []
  },
  {
   "cell_type": "markdown",
   "metadata": {
    "id": "adagNIVPp0fF",
    "colab_type": "text"
   },
   "source": [
    "## 1b) Softmax\n",
    "\n",
    "En esta parte debes programar la función `softmax`. Esta es una función tal que para una secuencia de valores $(x_1,\\ldots,x_n)$  el resultado de $\\text{softmax}(x_1,\\ldots,x_n)$ es otra secuencia $(s_1,\\ldots,s_n)$ que cumple con\n",
    "\\begin{equation}\n",
    "s_i = \\frac{e^{x_i}}{\\sum_{j=1}^{n}e^{x_j}}\n",
    "\\end{equation}\n",
    "Para esto primero demuestra que si a cada elemento de $(x_1,\\ldots,x_n)$ se le resta el mismo valor, entonces el resultado de `softmax` no varía. Es decir que $\\text{softmax}(x_1-M,\\ldots,x_n-M)=\\text{softmax}(x_1,\\ldots,x_n)$. Usa este hecho para programar una versión de `softmax` que primero le resta a todos los elementos el máximo valor de la secuencia. Esta nueva versión debiera ser numéricamente más estable.\n",
    "\n",
    "Tu función debe recibir un tensor y el resultado de `softmax` debiera calcularse sobre alguna dimensión del tensor dejando todas las demás dimensiones fijas. Para esto tu función debe también recibir el parámetro `dim` (que indica la dimensión). El resultado de `softmax` se calculará para cada secuencia de valores obtenidos recorriendo la dimensión `dim` fijando las otras dimensiones. Por ejemplo, si `softmax` recibe un tensor de dos dimensiones $T_{ij}$ y se elige la dimensión $1$, entonces se debe computar $\\text{softmax}(T_{i1},\\ldots,T_{in})$ para cada $i$. Note que en este caso se calculó `softmax` sobre la dimensión $1$ (la segunda dimensión) dejando fija la dimensión $0$ (la primera dimensión). Como otro ejemplo, si el input de la función es un tensor de tres dimensiones $T_{ijk}$ y se elige la dimensión $2$ (tercera dimensión), entonces se debe computar $\\text{softmax}(T_{ij1},\\ldots,T_{ijn})$ para cada par $i$, $j$. Por si estás familiarizado con `numpy`, el uso de `dim` en esta parte es muy similar al de `axis` en `numpy`.\n",
    "\n",
    "Nota que el resultado de `softmax` es siempre un tensor de las mismas dimensiones de la entrada."
   ]
  },
  {
   "cell_type": "code",
   "metadata": {
    "id": "5hVvsHp-dGk4",
    "colab_type": "code",
    "cellView": "code",
    "colab": {}
   },
   "source": [
    "# Tu código acá\n",
    "\n",
    "def softmax(T, dim, estable=True):\n",
    "  pass"
   ],
   "execution_count": 0,
   "outputs": []
  },
  {
   "cell_type": "markdown",
   "metadata": {
    "id": "2m3i_1ijPLr_",
    "colab_type": "text"
   },
   "source": [
    "# Parte 2: Red neuronal y pasada hacia adelante (forward)\n",
    "\n",
    "En esta parte empezaremos a programar nuestra red neuronal, en particular la pasada hacia adelante para una red que resolverá problemas de clasificación con varias clases. Supondremos que cada capa se verá de la forma\n",
    "\\begin{equation}\n",
    "h^{(\\ell)} = f^{(\\ell)}(h^{(\\ell-1)} W^{(\\ell)}+b^{(\\ell)})\n",
    "\\end{equation}\n",
    "y que la predicción final estará dada por\n",
    "\\begin{equation}\n",
    "\\hat{y} = \\text{softmax}(h^{(L)}U+c).\n",
    "\\end{equation}\n",
    "\n"
   ]
  },
  {
   "cell_type": "markdown",
   "metadata": {
    "id": "E_1cvyD9PiMY",
    "colab_type": "text"
   },
   "source": [
    "## 2a) Clase para red neuronal\n",
    "\n",
    "Programa una clase `FFNN` que en su inicializador reciba los siguientes parámetros:\n",
    "\n",
    "*   Cantidad de neuronas de la capa de entrada `F`\n",
    "*   Lista de cantidades de neuronas en cada capa escondida `l_h`\n",
    "*   Lista de funciones de activación `l_a`\n",
    "*   Cantidad de neuronas de la capa de salida `C` (`C` $\\geq 2$)\n",
    "\n",
    "En pytorch, todas las redes neuronales que construyamos deben construirse como subclases de [`torch.nn.Module`](https://pytorch.org/docs/stable/nn.html#torch.nn.Module), lo que tendrá varias ventajas que explicaremos después. El inicio de tu código debe verse más o menos así:\n",
    "\n",
    "```python\n",
    "class FFNN(torch.nn.Module):\n",
    "  def __init__(self, ...):\n",
    "    super(FFNN, self).__init__()\n",
    "```\n",
    "\n",
    "El inicializador de tu clase debería crear todos los parámetros para la red como tensores (`torch.tensor`) de las dimensiones correspondientes, y almacenar lo necesario para poder computar la pasada hacia adelante (siguiente parte). Para poder aprovechar las funcionalidades de pytorch, debes **registrar** los parámetros como tales y para esto debes usar la clase [`torch.nn.Parameter`](https://pytorch.org/docs/stable/nn.html#torch.nn.Parameter). Por ahora, para nosotros un parámetro de la red definido con `torch.nn.Parameter` no es nada mas que un tensor y en esta tarea lo usaremos como eso, es decir, utilizando solo las funciones básicas de [`torch.Tensor`](https://pytorch.org/docs/stable/tensors.html). El siguiente trozo de código crea un tensor de 100 x 100 con solo zeros y lo registra como parámetro en la red.\n",
    "\n",
    "```python\n",
    "class FFNN(torch.nn.Module):\n",
    "  def __init__(self, ...):\n",
    "    super(FFNN, self).__init__()\n",
    "    T = torch.zeros(100,100)\n",
    "    self.mi_parametro = torch.nn.Parameter(T)\n",
    "```\n",
    "\n",
    "Inicializa todos los parámetros con números aleatorios pequeños y los sesgos como 0. No olvides definir los parámetros como artibutos de la clase para que otros métodos de la clase tengan acceso a ellos también. En tu caso, como tendrás una cantidad variables de parámetros, debes usar una [torch.nn.ParameterList](https://pytorch.org/docs/stable/nn.html#torch.nn.ParameterList) para agregar los parámetros, que estos queden todos registrados y que las otras funciones tengan acceso a ellos.\n",
    "\n",
    "Una llamada de ejemplo para crear un objeto de tu clase es:\n",
    "```python\n",
    "red_neuronal = FFNN(300,[50,30],[relu,sig],10)\n",
    "``` \n",
    "lo que debiera crear todos los parámetros para una red con 300 neuronas en la capa de entrada, luego una capa escondida de 50 neuronas con activación relu, luego una capa con 30 neuronas y activación sigmoid y finalmente una capa de 10 neuronas de salida. <br><br>\n",
    "\n",
    "Puedes agregarle al inicializador de tu clase todos los parámetros opcionales que estimes conveniente, y construir las funciones que te parezcan importantes de construir. Por ejemplo, es recomendable tener alguna forma de asignar los valores iniciales de los parámetros de la red, lo que servirá por ejemplo para cargar redes pre-entrenadas, inicializar los valores de manera más efectiva, o para hacer debugging del código. También puedes pedir los valores iniciales de los parámetros adicionales de las funciones `celu` y `swish`  (no olvides registrarlos como parámetros también!)."
   ]
  },
  {
   "cell_type": "code",
   "metadata": {
    "id": "eW3fhiQPTMLT",
    "colab_type": "code",
    "colab": {}
   },
   "source": [
    "# Tu código debiera comenzar así (ojo que acá solo empieza el código, \n",
    "# lo iremos completando más adelante).\n",
    "\n",
    "class FFNN(torch.nn.Module):\n",
    "  def __init__(self, F, l_h, l_a, C):\n",
    "    super(FFNN, self).__init__()\n",
    "    pass"
   ],
   "execution_count": 0,
   "outputs": []
  },
  {
   "cell_type": "markdown",
   "metadata": {
    "id": "S1TdSMX8XJD5",
    "colab_type": "text"
   },
   "source": [
    "## 2b) Iterando por los parámetros\n",
    "\n",
    "Uno de los puntos positivos de construir una red en pytorch desde `torch.nn.Module` y registrar los parámetros usando `torch.nn.Parameter` es que puedes tener acceso a un \"iterador\" sobre todos los parámetros llamando a `.parameters()` (esto será muy importante más adelante cuando veamos el algoritmo de backpropagation). Usa este iterador para mostrar/imprimir un resumen de los parámetros de tu red. Debes mostrar al menos las dimensiones de cada uno de los parámetros. Puede serte útil usar el iterador `.named_parameters()` también\n",
    "\n",
    "\n"
   ]
  },
  {
   "cell_type": "code",
   "metadata": {
    "id": "0fGGVBrtX2xx",
    "colab_type": "code",
    "colab": {}
   },
   "source": [
    "# Tu código debiera continuar así\n",
    "\n",
    "class FFNN(torch.nn.Module):\n",
    "  def __init__(self, F, l_h, l_a, C):\n",
    "    super(FFNN, self).__init__()\n",
    "    pass\n",
    "  \n",
    "  def resumen(self):\n",
    "    # usa self.parameters() o self.named_parameters()\n",
    "    pass"
   ],
   "execution_count": 0,
   "outputs": []
  },
  {
   "cell_type": "markdown",
   "metadata": {
    "id": "xbDabd2LMQCx",
    "colab_type": "text"
   },
   "source": [
    "## 2c) Moviendo los parámetros de la red entre dispositivos\n",
    "\n",
    "Otro de los puntos positivos de construir una red en pytorch desde `torch.nn.Module` y registrar los parámetros usando `torch.nn.Parameter` es que puedes mover tu red completa entre la CPU y la GPU de manera muy simple. De hecho, como subclase de `torch.nn.Module` podemos usar el método `.to(device)`, de la siguiente forma. Si haces esto:\n",
    "```python\n",
    "red_neuronal = FFNN(300,[50,30],[relu,sig],10)\n",
    "red_neuronal.to('cuda')\n",
    "```\n",
    "tu red pasa automáticamente a la GPU, lo que significa que todos los parámetros de la red quedan efectivamente almacenados en la memoria de la GPU. Para devolver los parámetros a la CPU puedes simplemente hacer\n",
    "```python\n",
    "red_neuronal.to('cpu')\n",
    "```\n",
    "También puedes usar directamente los métodos `.cuda()` y `.cpu()` para lograr los mismo efectos descritos anteriormente.\n",
    "\n",
    "En esta parte no debes programar nada nuevo, solo comprueba que todo anda bien ejecutando las llamadas anteriores y comprobando que efectivamente la memoria de la GPU se utiliza cuando haces la llamada `to.('cuda')`.\n"
   ]
  },
  {
   "cell_type": "code",
   "metadata": {
    "id": "fTgxEjzjMPj6",
    "colab_type": "code",
    "colab": {}
   },
   "source": [
    "# Crea una red (idealmente grande), y verifica que puedes pasar\n",
    "# todos los parámetros a la GPU ejecutando !nvidia-smi para chequear\n",
    "# la cantidad de GPU-RAM utilizada."
   ],
   "execution_count": 0,
   "outputs": []
  },
  {
   "cell_type": "markdown",
   "metadata": {
    "id": "kUk5lUM8TtBL",
    "colab_type": "text"
   },
   "source": [
    "## 2d) Pasada hacia adelante\n",
    "\n",
    "Programa la pasada hacia adelante de tu red neuronal en el método `forward` de la clase `FFNN`. La función debiera recibir un tensor de dimensiones `(B,F)` como entrada donde `B` es el tamaño del mini paquete de ejemplos pasados a tu red, y `F` la cantidad de *features* de cada ejemplo. Para computar la pasada hacia adelante, tu red debiera usar los parámetros creados en el inicializador y las funciones de activación entregadas también en el inicializador. Al finalizar, tu red debiera generar predicciones en la forma de probabilidades, aplicando la función `softmax`. El resultado del último `softmax` debiera ser un tensor de dimensiones `(B,C)` que es lo que la función debe retornar (donde `C` representa la cantidad de clases a clasificar)."
   ]
  },
  {
   "cell_type": "code",
   "metadata": {
    "id": "QseFyNzlUuAx",
    "colab_type": "code",
    "colab": {}
   },
   "source": [
    "# Tu código debiera continuar así \n",
    "\n",
    "class FFNN(torch.nn.Module):\n",
    "  def __init__(self, F, l_h, l_a, C):\n",
    "    super(FFNN, self).__init__()\n",
    "    pass\n",
    "  \n",
    "  def resumen(self):\n",
    "    # Usa self.parameters() o self.named_parameters().\n",
    "    pass\n",
    "  \n",
    "  def forward(self, x):\n",
    "    # Usa los parámetros y funciones de activación.\n",
    "    # El valor de retorno debiera ser y = softmax(capa_de_salida).\n",
    "    pass"
   ],
   "execution_count": 0,
   "outputs": []
  },
  {
   "cell_type": "markdown",
   "metadata": {
    "id": "VnyrrdzS4ICK",
    "colab_type": "text"
   },
   "source": [
    "# Parte 3: Probando tu red con parámetros pre-entrenados para MNIST\n",
    "\n",
    "En esta parte usarás la pasada hacia adelante de tu red con parámetros de una red pre-entrenada. La red fue entrenada con el conjunto de datos MNIST que contiene datos de dígitos escritos a mano. La versión original de los datos junto con una descripción del conjunto y resultados para distintos métodos de clasificación, se pueden encontrar en http://yann.lecun.com/exdb/mnist/"
   ]
  },
  {
   "cell_type": "markdown",
   "metadata": {
    "id": "V4YdUVgQIUWK",
    "colab_type": "text"
   },
   "source": [
    "## 3a) Cargando y visualizando datos de MNIST\n",
    "\n",
    "Esta parte no requiere que escribas código, sólo que te familiarices con el conjunto de datos. Sólo sigue las instrucciones.\n",
    "Primero usaremos el paquete `torchvision` (más algunos otros utilitarios) para descargar y procesar los datos de MNIST."
   ]
  },
  {
   "cell_type": "code",
   "metadata": {
    "id": "YE1iMUNfIT1r",
    "colab_type": "code",
    "outputId": "ad86423e-25dd-40b7-fe26-efa732206dfb",
    "colab": {
     "base_uri": "https://localhost:8080/",
     "height": 34
    }
   },
   "source": [
    "# Importamos MNIST desde torchvision.\n",
    "from torchvision.datasets import MNIST\n",
    "\n",
    "# Importamos una función para convertir imágenes en tensores.\n",
    "from torchvision.transforms import ToTensor\n",
    "\n",
    "# Importamos funcionalidades útiles para mirar los datos.\n",
    "from matplotlib.pyplot import subplots\n",
    "from random import randint\n",
    "\n",
    "# Descarga y almacena el conjunto de prueba de MNIST.\n",
    "dataset = MNIST('mnist', train=False, transform=ToTensor())\n",
    "print('Cantidad total de datos:',len(dataset))"
   ],
   "execution_count": 0,
   "outputs": [
    {
     "output_type": "stream",
     "text": [
      "Cantidad total de datos: 10000\n"
     ],
     "name": "stdout"
    }
   ]
  },
  {
   "cell_type": "markdown",
   "metadata": {
    "id": "XYGe_7Hp5Vy_",
    "colab_type": "text"
   },
   "source": [
    "Los datos en todo dataset de pytorch se pueden acceder indexándolos como si fueran un arreglo. En el caso de MNIST cada dato es un par que contiene un tensor `T` y un entero `l`, en donde `T` representa a la imágen de un dígito, y `l` representa el valor numérico de ese dígito. Exploremos el primero de estos datos:"
   ]
  },
  {
   "cell_type": "code",
   "metadata": {
    "id": "YpmhWb6L5xS8",
    "colab_type": "code",
    "colab": {}
   },
   "source": [
    "T, l = dataset[0]\n",
    "\n",
    "print('Tensor')\n",
    "print('tipo:', T.type())\n",
    "print('dimensiones:', T.size())\n",
    "print()\n",
    "print('Entero')\n",
    "print('valor:', l)"
   ],
   "execution_count": 0,
   "outputs": []
  },
  {
   "cell_type": "markdown",
   "metadata": {
    "id": "uR309L2Q6zrT",
    "colab_type": "text"
   },
   "source": [
    "El tensor `T` representa una imagen de 28x28 pixeles. Nota que el dato en cuestión tiene una dimensión inicial (es un tensor de 1x28x28). Esto es porque la imagen que estamos considerando está en blanco y negro, por lo tanto tiene un solo canal de color (más adelante usaremos imágenes generales con tres canales y que por lo tanto serán representadas con tensores de dimensiones 3xHxW).\n",
    "\n",
    "El siguiente código muestra el contenido de estos tensores de manera más amigable. Elige tres posiciones al azar y  muestra el valor `l` y el tensor `T` dibujado. Nota como se usa `view(28,28)` para redimensionar el tensor (sacarle la primera dimensión). En este caso también se usa `.numpy()` para pasar el tensor a un formato más amigable para graficar."
   ]
  },
  {
   "cell_type": "code",
   "metadata": {
    "colab_type": "code",
    "id": "z-7phemizyd6",
    "colab": {}
   },
   "source": [
    "# Muestra algunos ejemplos al azar\n",
    "n_ejemplos = 3\n",
    "fig, axs = subplots(nrows=n_ejemplos, figsize=(2,n_ejemplos*3))\n",
    "\n",
    "for i in range(n_ejemplos):  \n",
    "  idx = random.randint(0,len(dataset))\n",
    "  T, l = dataset[idx]\n",
    "  img = T.view(28,28).numpy()\n",
    "  axs[i].set_title(\"clase: \"+ str(l))\n",
    "  axs[i].imshow(img)\n",
    "\n",
    "# Note que se usó `view` para redimensionar el tensor, esto porque nuestro\n",
    "# dataloader entrega un tensor de dimensiones (1,1,28,28).\n",
    "# Es muy importante tener este hecho en cuenta en la siguiente parte."
   ],
   "execution_count": 0,
   "outputs": []
  },
  {
   "cell_type": "markdown",
   "metadata": {
    "id": "a44A1SkL9uaE",
    "colab_type": "text"
   },
   "source": [
    "## 3b) Cargando los parámetros pre-entrenados\n",
    "\n",
    "En [este link](https://github.com/joseramoniglesias/EL469_DeepLearning/blob/main/Cap03_Practicas/mnist_weights.rar) encontrarás varios archivos de texto que representan los parámetros de una red con 2 capas escondidas que fue pre-entrenada para clasificar los datos de MNIST. La red pre-entrenada tiene esta arquitectura\n",
    "\n",
    "784 --> 32 (relu) --> 16 (relu) --> 10 (softmax)\n",
    "\n",
    "Nota que la cantidad de neuronas en la capa de entrada es 28*28 = 784, esto porque nuestras redes esperan un vector de características como input.\n",
    "\n",
    "Los archivos de parámetros están nombrados como `W1`, `b1`, `W2`, `b2`, `U` y `c` que representan, respectivamente, a $W^{(1)}$, $b^{(1)}$, $W^{(2)}$, $b^{(2)}$, $U$ y $c$ en la descripción genérica que hemos utilizado para nuestras redes neuronales.\n",
    "\n",
    "Supongamos que ya tenemos guardado el archivo `W1.txt`. Para convertir estos archivos en tensores de pytorch, puedes hacer algo como lo siguiente:\n",
    "\n",
    "```python\n",
    "from numpy import loadtxt\n",
    "W1 = torch.from_numpy(loadtxt('W1.txt')).float()\n",
    "```\n",
    "\n",
    "Usa lo anterior para crear una red con la arquitectura descrita y cargar todos los parámetros pre-entrenados en la red. Esto debes hacerlo llamando a un método de inicialización de pesos de tu red. Si no hiciste ese método en las partes anteriores, es el momento de implementarlo."
   ]
  },
  {
   "cell_type": "code",
   "metadata": {
    "id": "xx_F1Vs09vFS",
    "colab_type": "code",
    "colab": {}
   },
   "source": [
    "# Tu código acá"
   ],
   "execution_count": 0,
   "outputs": []
  },
  {
   "cell_type": "markdown",
   "metadata": {
    "id": "mHJ1TkNhBIjK",
    "colab_type": "text"
   },
   "source": [
    "## 3c) Cálcula la predicción de un ejemplo al azar\n",
    "\n",
    "Prueba con un código tan simple como puedas, la predicción que entrega tu red para un ejemplo al azar del conjunto de datos y muestra también la imágen y la clase real del ejemplo."
   ]
  },
  {
   "cell_type": "code",
   "metadata": {
    "id": "3xWZ19i0BH0a",
    "colab_type": "code",
    "colab": {}
   },
   "source": [
    "# Tu código acá"
   ],
   "execution_count": 0,
   "outputs": []
  },
  {
   "cell_type": "markdown",
   "metadata": {
    "id": "7R_2hUZjByHI",
    "colab_type": "text"
   },
   "source": [
    "## 3d) Pasando todos los ejemplos por la red con un `DataLoader`\n",
    "\n",
    "Un `DataLoader` en pytorch es una manera muy útil de entregarle paquetes de ejemplos a una red. Será especialmente útil cuando estemos entrenando. Por ahora lo usaremos sólo para computar la predicción de la red pre-entrenada y calcular el porcentaje de acierto.\n",
    "\n",
    "Para crear un `DataLoader` solo se debe especificar el conjunto de datos que se usará en la forma de un objeto `DataSet`, y el tamaño del paquete de cada paquete que usaremos. En el siguiente código estamos creando un `DataLoader` desde nuestro objeto `dataset` con paquetes de tamaño 100.\n",
    "\n",
    "```python\n",
    "from torch.utils.data import DataLoader\n",
    "dataloader = DataLoader(dataset, batch_size=100)\n",
    "```\n",
    "\n",
    "Una vez creado podemos iterar por todo el dataset haciendo simplemente:\n",
    "\n",
    "```python\n",
    "for x, y in dataloader:\n",
    "  # lo que necesitemos hacer con los datos\n",
    "```\n",
    "\n",
    "En cada iteración `x` será un tensor con 100 ejemplos, por lo tanto tendrá dimensiones 100 x 1 x 28 x 28, e `y` será un tensor con las clases correspondientes a cada uno de esos ejemplos, por lo tanto tendrá dimensión 100 (es un tensor con 100 valores enteros).\n",
    "\n",
    "Escribe una función que use un `DataLoader` para pasar todos los ejemplos por la red en paquetes y calcula el porcentaje total de acierto que la red obtiene en la predicción. Recuerda que el porcentaje total de acierto es la cantidad de ejemplos clasificados correctamente dividido por la cantidad de ejemplos. Tu función debe recibir a la red con los parámetros cargados, el dataset que usarás, el tamaño del batch para pasar por la red y si el trabajo debe hacerse en la GPU o en la CPU. Aprovecha de probar como varía el tiempo de ejecución de tu función si cambias el tamaño del paquete y si usas la GPU vs la CPU."
   ]
  },
  {
   "cell_type": "code",
   "metadata": {
    "id": "gWdYn-UPGMQf",
    "colab_type": "code",
    "colab": {}
   },
   "source": [
    "# Acá tu código\n",
    "def calcula_acierto(red, dataset, batch_size=100, device='cuda'):\n",
    "  pass"
   ],
   "execution_count": 0,
   "outputs": []
  },
  {
   "cell_type": "markdown",
   "metadata": {
    "id": "Nz-qtzPmHuti",
    "colab_type": "text"
   },
   "source": [
    "## 3e) Opcional: Muestra los casos en donde la red se equivoca\n",
    "\n",
    "Muestra imágenes de 5 casos en donde la red se equivoca en la predicción (muestra la imagen y el dígito que la red predice). ¿Es razonable el error que comete?"
   ]
  },
  {
   "cell_type": "code",
   "metadata": {
    "id": "h4cVRrRwIGt2",
    "colab_type": "code",
    "colab": {}
   },
   "source": [
    "# Acá tu código"
   ],
   "execution_count": 0,
   "outputs": []
  },
  {
   "cell_type": "markdown",
   "metadata": {
    "id": "Q0P4ECqKAXXp",
    "colab_type": "text"
   },
   "source": [
    "## 3d) Opcional: Crea tus propios ejemplos de dígitos para clasificar\n",
    "\n",
    "Usa el código en [este link](https://github.com/joseramoniglesias/EL469_DeepLearning/blob/main/Cap03_Practicas/WriteMeMNIST.ipynb) para generar nuevos casos de prueba manualmente y ver cómo lo clasifica la red. Trata de entender en qué casos comete errores."
   ]
  },
  {
   "cell_type": "code",
   "metadata": {
    "id": "oO1p6G6rA96y",
    "colab_type": "code",
    "colab": {}
   },
   "source": [
    "# Acá tu código"
   ],
   "execution_count": 0,
   "outputs": []
  }
 ]
}
