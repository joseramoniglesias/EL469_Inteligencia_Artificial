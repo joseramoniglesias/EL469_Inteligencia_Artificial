{
 "nbformat": 4,
 "nbformat_minor": 0,
 "metadata": {
  "colab": {
   "provenance": [],
   "toc_visible": true
  },
  "kernelspec": {
   "name": "python3",
   "language": "python",
   "display_name": "Python 3 (ipykernel)"
  }
 },
 "cells": [
  {
   "cell_type": "markdown",
   "metadata": {
    "id": "ZfXL9kavj4M_"
   },
   "source": [
    "# Parte extra de la tarea: escribir digitos para MNIST\n",
    "\n",
    "Tarea Deep Learning."
   ]
  },
  {
   "cell_type": "code",
   "metadata": {
    "id": "92gGNfjmdWi3",
    "ExecuteTime": {
     "end_time": "2023-11-09T15:13:17.977551300Z",
     "start_time": "2023-11-09T15:13:09.093778200Z"
    }
   },
   "source": [
    "import torchvision\n",
    "from torch.utils.data import DataLoader"
   ],
   "execution_count": 3,
   "outputs": []
  },
  {
   "cell_type": "markdown",
   "metadata": {
    "id": "eGx1j70hD29R"
   },
   "source": [
    "## Escribir los dígitos personalizados para MNIST\n",
    "\n",
    "Siga las instrucciones para generar dígitos manuscritos en el mismo formato del dataset MNIST.\n",
    "El siguiente script inicia un recuadro donde puede dibujar su dígito, indicando a qué número pertenece."
   ]
  },
  {
   "cell_type": "code",
   "execution_count": null,
   "outputs": [],
   "source": [
    "!pip install Js2Py"
   ],
   "metadata": {
    "collapsed": false
   }
  },
  {
   "cell_type": "code",
   "metadata": {
    "id": "d94kOGhdDjYi",
    "ExecuteTime": {
     "end_time": "2023-11-09T15:18:04.741585200Z",
     "start_time": "2023-11-09T15:18:04.494083800Z"
    }
   },
   "source": [
    "from IPython.display import HTML, Image\n",
    "#from google.colab.output import eval_js\n",
    "from js2py import eval_js\n",
    "from base64 import b64decode\n",
    "import string\n",
    "import random\n",
    "import os\n",
    "\n",
    "letters = string.ascii_lowercase\n",
    "\n",
    "canvas_html = \"\"\"\n",
    "<canvas width=%d height=%d></canvas>\n",
    "<button>Finish</button>\n",
    "<script>\n",
    "var canvas = document.querySelector('canvas')\n",
    "var ctx = canvas.getContext('2d')\n",
    "ctx.fillStyle = 'black'\n",
    "ctx.fillRect(0, 0, canvas.width, canvas.height)\n",
    "ctx.lineWidth = %d\n",
    "ctx.strokeStyle = 'white'\n",
    "var button = document.querySelector('button')\n",
    "var mouse = {x: 0, y: 0}\n",
    "canvas.addEventListener('mousemove', function(e) {\n",
    "  mouse.x = e.pageX - this.offsetLeft\n",
    "  mouse.y = e.pageY - this.offsetTop\n",
    "})\n",
    "canvas.onmousedown = ()=>{\n",
    "  ctx.beginPath()\n",
    "  ctx.moveTo(mouse.x, mouse.y)\n",
    "  canvas.addEventListener('mousemove', onPaint)\n",
    "}\n",
    "canvas.onmouseup = ()=>{\n",
    "  canvas.removeEventListener('mousemove', onPaint)\n",
    "}\n",
    "var onPaint = ()=>{\n",
    "  ctx.lineTo(mouse.x, mouse.y)\n",
    "  ctx.stroke()\n",
    "}\n",
    "var data = new Promise(resolve=>{\n",
    "  button.onclick = ()=>{\n",
    "    resolve(canvas.toDataURL('image/jpeg'))\n",
    "  }\n",
    "})\n",
    "</script>\n",
    "\"\"\"\n",
    "\n",
    "def draw(label, w=280, h=280, line_width=10):\n",
    "    display(HTML(canvas_html % (w, h, line_width)))\n",
    "    data = eval_js(\"data\")\n",
    "    binary = b64decode(data.split(',')[1])\n",
    "    path_label = f\"user_numbers/{label}/\"\n",
    "    file_name = ''.join(random.choice(letters) for i in range(10)) + \".jpg\"\n",
    "    os.makedirs(path_label, exist_ok=True)\n",
    "    with open(path_label + file_name, 'wb') as f:\n",
    "        f.write(binary)\n",
    "    return binary"
   ],
   "execution_count": 5,
   "outputs": []
  },
  {
   "cell_type": "markdown",
   "metadata": {
    "id": "8K6u9gS-JXIT"
   },
   "source": [
    "Para dibujar tiene que hacer una llamada a la función `draw` indicando el número que quiere dibujar. El script creará la carpeta `user_numbers`, donde se irán generando carpetas divididas con los labels de cada número. Por ejemplo, si decide dibujar el `1`, se creará la carpeta `user_numbers/1/` con una imagen dentro que corresponderá al dígito que acaba de dibujar. Puede ver esto en el panel del lado izquierdo, en la pestaña `Files`."
   ]
  },
  {
   "cell_type": "code",
   "metadata": {
    "id": "maQl7hjRFfGw",
    "ExecuteTime": {
     "end_time": "2023-11-09T15:18:12.045847100Z",
     "start_time": "2023-11-09T15:18:11.814814100Z"
    }
   },
   "source": [
    "draw(label=1)"
   ],
   "execution_count": 6,
   "outputs": [
    {
     "data": {
      "text/plain": "<IPython.core.display.HTML object>",
      "text/html": "\n<canvas width=280 height=280></canvas>\n<button>Finish</button>\n<script>\nvar canvas = document.querySelector('canvas')\nvar ctx = canvas.getContext('2d')\nctx.fillStyle = 'black'\nctx.fillRect(0, 0, canvas.width, canvas.height)\nctx.lineWidth = 10\nctx.strokeStyle = 'white'\nvar button = document.querySelector('button')\nvar mouse = {x: 0, y: 0}\ncanvas.addEventListener('mousemove', function(e) {\n  mouse.x = e.pageX - this.offsetLeft\n  mouse.y = e.pageY - this.offsetTop\n})\ncanvas.onmousedown = ()=>{\n  ctx.beginPath()\n  ctx.moveTo(mouse.x, mouse.y)\n  canvas.addEventListener('mousemove', onPaint)\n}\ncanvas.onmouseup = ()=>{\n  canvas.removeEventListener('mousemove', onPaint)\n}\nvar onPaint = ()=>{\n  ctx.lineTo(mouse.x, mouse.y)\n  ctx.stroke()\n}\nvar data = new Promise(resolve=>{\n  button.onclick = ()=>{\n    resolve(canvas.toDataURL('image/jpeg'))\n  }\n})\n</script>\n"
     },
     "metadata": {},
     "output_type": "display_data"
    },
    {
     "ename": "JsException",
     "evalue": "ReferenceError: data is not defined",
     "output_type": "error",
     "traceback": [
      "\u001B[1;31m---------------------------------------------------------------------------\u001B[0m",
      "\u001B[1;31mJsException\u001B[0m                               Traceback (most recent call last)",
      "\u001B[1;32m~\\AppData\\Local\\Temp\\ipykernel_760\\672723547.py\u001B[0m in \u001B[0;36m<module>\u001B[1;34m\u001B[0m\n\u001B[1;32m----> 1\u001B[1;33m \u001B[0mdraw\u001B[0m\u001B[1;33m(\u001B[0m\u001B[0mlabel\u001B[0m\u001B[1;33m=\u001B[0m\u001B[1;36m1\u001B[0m\u001B[1;33m)\u001B[0m\u001B[1;33m\u001B[0m\u001B[1;33m\u001B[0m\u001B[0m\n\u001B[0m",
      "\u001B[1;32m~\\AppData\\Local\\Temp\\ipykernel_760\\3315533828.py\u001B[0m in \u001B[0;36mdraw\u001B[1;34m(label, w, h, line_width)\u001B[0m\n\u001B[0;32m     47\u001B[0m \u001B[1;32mdef\u001B[0m \u001B[0mdraw\u001B[0m\u001B[1;33m(\u001B[0m\u001B[0mlabel\u001B[0m\u001B[1;33m,\u001B[0m \u001B[0mw\u001B[0m\u001B[1;33m=\u001B[0m\u001B[1;36m280\u001B[0m\u001B[1;33m,\u001B[0m \u001B[0mh\u001B[0m\u001B[1;33m=\u001B[0m\u001B[1;36m280\u001B[0m\u001B[1;33m,\u001B[0m \u001B[0mline_width\u001B[0m\u001B[1;33m=\u001B[0m\u001B[1;36m10\u001B[0m\u001B[1;33m)\u001B[0m\u001B[1;33m:\u001B[0m\u001B[1;33m\u001B[0m\u001B[1;33m\u001B[0m\u001B[0m\n\u001B[0;32m     48\u001B[0m     \u001B[0mdisplay\u001B[0m\u001B[1;33m(\u001B[0m\u001B[0mHTML\u001B[0m\u001B[1;33m(\u001B[0m\u001B[0mcanvas_html\u001B[0m \u001B[1;33m%\u001B[0m \u001B[1;33m(\u001B[0m\u001B[0mw\u001B[0m\u001B[1;33m,\u001B[0m \u001B[0mh\u001B[0m\u001B[1;33m,\u001B[0m \u001B[0mline_width\u001B[0m\u001B[1;33m)\u001B[0m\u001B[1;33m)\u001B[0m\u001B[1;33m)\u001B[0m\u001B[1;33m\u001B[0m\u001B[1;33m\u001B[0m\u001B[0m\n\u001B[1;32m---> 49\u001B[1;33m     \u001B[0mdata\u001B[0m \u001B[1;33m=\u001B[0m \u001B[0meval_js\u001B[0m\u001B[1;33m(\u001B[0m\u001B[1;34m\"data\"\u001B[0m\u001B[1;33m)\u001B[0m\u001B[1;33m\u001B[0m\u001B[1;33m\u001B[0m\u001B[0m\n\u001B[0m\u001B[0;32m     50\u001B[0m     \u001B[0mbinary\u001B[0m \u001B[1;33m=\u001B[0m \u001B[0mb64decode\u001B[0m\u001B[1;33m(\u001B[0m\u001B[0mdata\u001B[0m\u001B[1;33m.\u001B[0m\u001B[0msplit\u001B[0m\u001B[1;33m(\u001B[0m\u001B[1;34m','\u001B[0m\u001B[1;33m)\u001B[0m\u001B[1;33m[\u001B[0m\u001B[1;36m1\u001B[0m\u001B[1;33m]\u001B[0m\u001B[1;33m)\u001B[0m\u001B[1;33m\u001B[0m\u001B[1;33m\u001B[0m\u001B[0m\n\u001B[0;32m     51\u001B[0m     \u001B[0mpath_label\u001B[0m \u001B[1;33m=\u001B[0m \u001B[1;34mf\"user_numbers/{label}/\"\u001B[0m\u001B[1;33m\u001B[0m\u001B[1;33m\u001B[0m\u001B[0m\n",
      "\u001B[1;32m~\\anaconda3\\lib\\site-packages\\js2py\\evaljs.py\u001B[0m in \u001B[0;36meval_js\u001B[1;34m(js)\u001B[0m\n\u001B[0;32m    113\u001B[0m        \"\"\"\n\u001B[0;32m    114\u001B[0m     \u001B[0me\u001B[0m \u001B[1;33m=\u001B[0m \u001B[0mEvalJs\u001B[0m\u001B[1;33m(\u001B[0m\u001B[1;33m)\u001B[0m\u001B[1;33m\u001B[0m\u001B[1;33m\u001B[0m\u001B[0m\n\u001B[1;32m--> 115\u001B[1;33m     \u001B[1;32mreturn\u001B[0m \u001B[0me\u001B[0m\u001B[1;33m.\u001B[0m\u001B[0meval\u001B[0m\u001B[1;33m(\u001B[0m\u001B[0mjs\u001B[0m\u001B[1;33m)\u001B[0m\u001B[1;33m\u001B[0m\u001B[1;33m\u001B[0m\u001B[0m\n\u001B[0m\u001B[0;32m    116\u001B[0m \u001B[1;33m\u001B[0m\u001B[0m\n\u001B[0;32m    117\u001B[0m \u001B[1;33m\u001B[0m\u001B[0m\n",
      "\u001B[1;32m~\\anaconda3\\lib\\site-packages\\js2py\\evaljs.py\u001B[0m in \u001B[0;36meval\u001B[1;34m(self, expression, use_compilation_plan)\u001B[0m\n\u001B[0;32m    202\u001B[0m         \u001B[1;34m\"\"\"evaluates expression in current context and returns its value\"\"\"\u001B[0m\u001B[1;33m\u001B[0m\u001B[1;33m\u001B[0m\u001B[0m\n\u001B[0;32m    203\u001B[0m         \u001B[0mcode\u001B[0m \u001B[1;33m=\u001B[0m \u001B[1;34m'PyJsEvalResult = eval(%s)'\u001B[0m \u001B[1;33m%\u001B[0m \u001B[0mjson\u001B[0m\u001B[1;33m.\u001B[0m\u001B[0mdumps\u001B[0m\u001B[1;33m(\u001B[0m\u001B[0mexpression\u001B[0m\u001B[1;33m)\u001B[0m\u001B[1;33m\u001B[0m\u001B[1;33m\u001B[0m\u001B[0m\n\u001B[1;32m--> 204\u001B[1;33m         \u001B[0mself\u001B[0m\u001B[1;33m.\u001B[0m\u001B[0mexecute\u001B[0m\u001B[1;33m(\u001B[0m\u001B[0mcode\u001B[0m\u001B[1;33m,\u001B[0m \u001B[0muse_compilation_plan\u001B[0m\u001B[1;33m=\u001B[0m\u001B[0muse_compilation_plan\u001B[0m\u001B[1;33m)\u001B[0m\u001B[1;33m\u001B[0m\u001B[1;33m\u001B[0m\u001B[0m\n\u001B[0m\u001B[0;32m    205\u001B[0m         \u001B[1;32mreturn\u001B[0m \u001B[0mself\u001B[0m\u001B[1;33m[\u001B[0m\u001B[1;34m'PyJsEvalResult'\u001B[0m\u001B[1;33m]\u001B[0m\u001B[1;33m\u001B[0m\u001B[1;33m\u001B[0m\u001B[0m\n\u001B[0;32m    206\u001B[0m \u001B[1;33m\u001B[0m\u001B[0m\n",
      "\u001B[1;32m~\\anaconda3\\lib\\site-packages\\js2py\\evaljs.py\u001B[0m in \u001B[0;36mexecute\u001B[1;34m(self, js, use_compilation_plan)\u001B[0m\n\u001B[0;32m    197\u001B[0m             compiled = cache[hashkey] = compile(code, '<EvalJS snippet>',\n\u001B[0;32m    198\u001B[0m                                                 'exec')\n\u001B[1;32m--> 199\u001B[1;33m         \u001B[0mexec\u001B[0m \u001B[1;33m(\u001B[0m\u001B[0mcompiled\u001B[0m\u001B[1;33m,\u001B[0m \u001B[0mself\u001B[0m\u001B[1;33m.\u001B[0m\u001B[0m_context\u001B[0m\u001B[1;33m)\u001B[0m\u001B[1;33m\u001B[0m\u001B[1;33m\u001B[0m\u001B[0m\n\u001B[0m\u001B[0;32m    200\u001B[0m \u001B[1;33m\u001B[0m\u001B[0m\n\u001B[0;32m    201\u001B[0m     \u001B[1;32mdef\u001B[0m \u001B[0meval\u001B[0m\u001B[1;33m(\u001B[0m\u001B[0mself\u001B[0m\u001B[1;33m,\u001B[0m \u001B[0mexpression\u001B[0m\u001B[1;33m,\u001B[0m \u001B[0muse_compilation_plan\u001B[0m\u001B[1;33m=\u001B[0m\u001B[1;32mFalse\u001B[0m\u001B[1;33m)\u001B[0m\u001B[1;33m:\u001B[0m\u001B[1;33m\u001B[0m\u001B[1;33m\u001B[0m\u001B[0m\n",
      "\u001B[1;32m<EvalJS snippet>\u001B[0m in \u001B[0;36m<module>\u001B[1;34m\u001B[0m\n",
      "\u001B[1;32m~\\anaconda3\\lib\\site-packages\\js2py\\base.py\u001B[0m in \u001B[0;36m__call__\u001B[1;34m(self, *args)\u001B[0m\n\u001B[0;32m    947\u001B[0m             raise MakeError('TypeError',\n\u001B[0;32m    948\u001B[0m                             '%s is not a function' % self.typeof())\n\u001B[1;32m--> 949\u001B[1;33m         \u001B[1;32mreturn\u001B[0m \u001B[0mself\u001B[0m\u001B[1;33m.\u001B[0m\u001B[0mcall\u001B[0m\u001B[1;33m(\u001B[0m\u001B[0mself\u001B[0m\u001B[1;33m.\u001B[0m\u001B[0mGlobalObject\u001B[0m\u001B[1;33m,\u001B[0m \u001B[0margs\u001B[0m\u001B[1;33m)\u001B[0m\u001B[1;33m\u001B[0m\u001B[1;33m\u001B[0m\u001B[0m\n\u001B[0m\u001B[0;32m    950\u001B[0m \u001B[1;33m\u001B[0m\u001B[0m\n\u001B[0;32m    951\u001B[0m     \u001B[1;32mdef\u001B[0m \u001B[0mcreate\u001B[0m\u001B[1;33m(\u001B[0m\u001B[0mself\u001B[0m\u001B[1;33m,\u001B[0m \u001B[1;33m*\u001B[0m\u001B[0margs\u001B[0m\u001B[1;33m)\u001B[0m\u001B[1;33m:\u001B[0m\u001B[1;33m\u001B[0m\u001B[1;33m\u001B[0m\u001B[0m\n",
      "\u001B[1;32m~\\anaconda3\\lib\\site-packages\\js2py\\base.py\u001B[0m in \u001B[0;36mcall\u001B[1;34m(self, this, args)\u001B[0m\n\u001B[0;32m   1462\u001B[0m         \u001B[0margs\u001B[0m \u001B[1;33m+=\u001B[0m \u001B[0mthis\u001B[0m\u001B[1;33m,\u001B[0m \u001B[0marguments\u001B[0m  \u001B[1;31m#append extra params to the arg list\u001B[0m\u001B[1;33m\u001B[0m\u001B[1;33m\u001B[0m\u001B[0m\n\u001B[0;32m   1463\u001B[0m         \u001B[1;32mtry\u001B[0m\u001B[1;33m:\u001B[0m\u001B[1;33m\u001B[0m\u001B[1;33m\u001B[0m\u001B[0m\n\u001B[1;32m-> 1464\u001B[1;33m             \u001B[1;32mreturn\u001B[0m \u001B[0mJs\u001B[0m\u001B[1;33m(\u001B[0m\u001B[0mself\u001B[0m\u001B[1;33m.\u001B[0m\u001B[0mcode\u001B[0m\u001B[1;33m(\u001B[0m\u001B[1;33m*\u001B[0m\u001B[0margs\u001B[0m\u001B[1;33m)\u001B[0m\u001B[1;33m)\u001B[0m\u001B[1;33m\u001B[0m\u001B[1;33m\u001B[0m\u001B[0m\n\u001B[0m\u001B[0;32m   1465\u001B[0m         \u001B[1;32mexcept\u001B[0m \u001B[0mNotImplementedError\u001B[0m\u001B[1;33m:\u001B[0m\u001B[1;33m\u001B[0m\u001B[1;33m\u001B[0m\u001B[0m\n\u001B[0;32m   1466\u001B[0m             \u001B[1;32mraise\u001B[0m\u001B[1;33m\u001B[0m\u001B[1;33m\u001B[0m\u001B[0m\n",
      "\u001B[1;32m~\\anaconda3\\lib\\site-packages\\js2py\\host\\jseval.py\u001B[0m in \u001B[0;36mEval\u001B[1;34m(code, this, arguments)\u001B[0m\n\u001B[0;32m     43\u001B[0m                 \u001B[1;32mbreak\u001B[0m\u001B[1;33m\u001B[0m\u001B[1;33m\u001B[0m\u001B[0m\n\u001B[0;32m     44\u001B[0m     \u001B[1;31m#print py_code\u001B[0m\u001B[1;33m\u001B[0m\u001B[1;33m\u001B[0m\u001B[0m\n\u001B[1;32m---> 45\u001B[1;33m     \u001B[0mexecutor\u001B[0m\u001B[1;33m(\u001B[0m\u001B[0mpy_code\u001B[0m\u001B[1;33m)\u001B[0m\u001B[1;33m\u001B[0m\u001B[1;33m\u001B[0m\u001B[0m\n\u001B[0m\u001B[0;32m     46\u001B[0m     \u001B[1;32mif\u001B[0m \u001B[0mhas_return\u001B[0m\u001B[1;33m:\u001B[0m\u001B[1;33m\u001B[0m\u001B[1;33m\u001B[0m\u001B[0m\n\u001B[0;32m     47\u001B[0m         \u001B[1;32mreturn\u001B[0m \u001B[0mglobals\u001B[0m\u001B[1;33m(\u001B[0m\u001B[1;33m)\u001B[0m\u001B[1;33m[\u001B[0m\u001B[1;34m'EVAL_RESULT'\u001B[0m\u001B[1;33m]\u001B[0m\u001B[1;33m\u001B[0m\u001B[1;33m\u001B[0m\u001B[0m\n",
      "\u001B[1;32m~\\anaconda3\\lib\\site-packages\\js2py\\host\\jseval.py\u001B[0m in \u001B[0;36mexecutor\u001B[1;34m(code)\u001B[0m\n\u001B[0;32m     49\u001B[0m \u001B[1;33m\u001B[0m\u001B[0m\n\u001B[0;32m     50\u001B[0m \u001B[1;32mdef\u001B[0m \u001B[0mexecutor\u001B[0m\u001B[1;33m(\u001B[0m\u001B[0mcode\u001B[0m\u001B[1;33m)\u001B[0m\u001B[1;33m:\u001B[0m\u001B[1;33m\u001B[0m\u001B[1;33m\u001B[0m\u001B[0m\n\u001B[1;32m---> 51\u001B[1;33m     \u001B[0mexec\u001B[0m \u001B[1;33m(\u001B[0m\u001B[0mcode\u001B[0m\u001B[1;33m,\u001B[0m \u001B[0mglobals\u001B[0m\u001B[1;33m(\u001B[0m\u001B[1;33m)\u001B[0m\u001B[1;33m)\u001B[0m\u001B[1;33m\u001B[0m\u001B[1;33m\u001B[0m\u001B[0m\n\u001B[0m",
      "\u001B[1;32m~\\anaconda3\\lib\\site-packages\\js2py\\host\\jseval.py\u001B[0m in \u001B[0;36m<module>\u001B[1;34m\u001B[0m\n",
      "\u001B[1;32m~\\anaconda3\\lib\\site-packages\\js2py\\base.py\u001B[0m in \u001B[0;36mget\u001B[1;34m(self, prop, throw)\u001B[0m\n\u001B[0;32m   1156\u001B[0m         \u001B[1;32mif\u001B[0m \u001B[0mprop\u001B[0m \u001B[1;32mnot\u001B[0m \u001B[1;32min\u001B[0m \u001B[0mself\u001B[0m\u001B[1;33m.\u001B[0m\u001B[0mown\u001B[0m\u001B[1;33m:\u001B[0m\u001B[1;33m\u001B[0m\u001B[1;33m\u001B[0m\u001B[0m\n\u001B[0;32m   1157\u001B[0m             \u001B[1;32mif\u001B[0m \u001B[0mthrow\u001B[0m\u001B[1;33m:\u001B[0m\u001B[1;33m\u001B[0m\u001B[1;33m\u001B[0m\u001B[0m\n\u001B[1;32m-> 1158\u001B[1;33m                 \u001B[1;32mraise\u001B[0m \u001B[0mMakeError\u001B[0m\u001B[1;33m(\u001B[0m\u001B[1;34m'ReferenceError'\u001B[0m\u001B[1;33m,\u001B[0m \u001B[1;34m'%s is not defined'\u001B[0m \u001B[1;33m%\u001B[0m \u001B[0mprop\u001B[0m\u001B[1;33m)\u001B[0m\u001B[1;33m\u001B[0m\u001B[1;33m\u001B[0m\u001B[0m\n\u001B[0m\u001B[0;32m   1159\u001B[0m             \u001B[1;32mreturn\u001B[0m \u001B[0mundefined\u001B[0m\u001B[1;33m\u001B[0m\u001B[1;33m\u001B[0m\u001B[0m\n\u001B[0;32m   1160\u001B[0m         \u001B[1;32mreturn\u001B[0m \u001B[0mPyJs\u001B[0m\u001B[1;33m.\u001B[0m\u001B[0mget\u001B[0m\u001B[1;33m(\u001B[0m\u001B[0mself\u001B[0m\u001B[1;33m,\u001B[0m \u001B[0mprop\u001B[0m\u001B[1;33m)\u001B[0m\u001B[1;33m\u001B[0m\u001B[1;33m\u001B[0m\u001B[0m\n",
      "\u001B[1;31mJsException\u001B[0m: ReferenceError: data is not defined"
     ]
    }
   ]
  },
  {
   "cell_type": "markdown",
   "metadata": {
    "id": "MoGyT5_-064U"
   },
   "source": [
    "\n",
    "\n",
    "---\n",
    "\n"
   ]
  },
  {
   "cell_type": "markdown",
   "metadata": {
    "id": "8AObexdH0900"
   },
   "source": [
    "## Leer las imágenes generadas\n",
    "\n",
    "Para cargar las imagenes que generó debe hacer uso de la conveniente clase de Pytorch `ImageFolder` y luego de `DataLoader`.\n",
    "Para esto utilize el siguiente script."
   ]
  },
  {
   "cell_type": "code",
   "metadata": {
    "id": "QG0hYriU1fOt"
   },
   "source": [
    "user_made = torchvision.datasets.ImageFolder(\n",
    "        root=\"user_numbers/\",\n",
    "        transform=torchvision.transforms.Compose([\n",
    "            # transformamos las imagenes a blanco y negro\n",
    "            torchvision.transforms.Grayscale(num_output_channels=1),\n",
    "            # achicamos la imagen de 280x280 a 28x28 (mas facil dibujar en 280)\n",
    "            torchvision.transforms.Resize((28, 28), interpolation=2),\n",
    "            # a tensor de pytorch\n",
    "            torchvision.transforms.ToTensor()\n",
    "        ])\n",
    "    )\n",
    "# Gracias por las limitaciones pytorch...\n",
    "user_made.target_transform = lambda _id: int(list(user_made.class_to_idx.keys())[list(user_made.class_to_idx.values()).index(_id)])\n",
    "dataloader_user = DataLoader(user_made, batch_size=1)"
   ],
   "execution_count": null,
   "outputs": []
  },
  {
   "cell_type": "code",
   "metadata": {
    "id": "1lvWFloN3k5c"
   },
   "source": [],
   "execution_count": null,
   "outputs": []
  }
 ]
}
