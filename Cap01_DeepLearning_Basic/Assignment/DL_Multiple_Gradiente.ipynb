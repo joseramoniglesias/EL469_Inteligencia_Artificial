{
 "nbformat": 4,
 "nbformat_minor": 0,
 "metadata": {
  "kernelspec": {
   "display_name": "Python 3",
   "language": "python",
   "name": "python3"
  },
  "language_info": {
   "codemirror_mode": {
    "name": "ipython",
    "version": 3
   },
   "file_extension": ".py",
   "mimetype": "text/x-python",
   "name": "python",
   "nbconvert_exporter": "python",
   "pygments_lexer": "ipython3",
   "version": "3.8.3"
  },
  "colab": {
   "name": "Multiple Gradiente.ipynb",
   "provenance": [],
   "include_colab_link": true
  }
 },
 "cells": [
  {
   "cell_type": "markdown",
   "metadata": {
    "id": "view-in-github",
    "colab_type": "text"
   },
   "source": [
    "# Multiple Gradiente\n",
    "# REDES NEURONALES <a class=\"tocSkip\">\n",
    "## Deep Learning <a class=\"tocSkip\">\n",
    "### Ingenieria Electrónica <a class=\"tocSkip\">\n",
    "### Universidad Popular del Cesar <a class=\"tocSkip\">\n",
    "### Prof.: Jose Ramón Iglesias Gamarra - [https://github.com/joseramoniglesias/](https://github.com/joseramoniglesias/) <a class=\"tocSkip\">\n",
    "  **joseiglesias@unicesar.edu.co**"
   ]
  },
  {
   "cell_type": "code",
   "metadata": {
    "id": "hXprNVbtAy7B",
    "colab_type": "code",
    "colab": {},
    "ExecuteTime": {
     "end_time": "2023-09-01T23:13:50.509624900Z",
     "start_time": "2023-09-01T23:13:50.497095500Z"
    }
   },
   "source": [
    "import numpy as np\n",
    "import matplotlib.pyplot as plt\n",
    "import random"
   ],
   "execution_count": 1,
   "outputs": []
  },
  {
   "cell_type": "code",
   "metadata": {
    "id": "c7Q0xXJMAy7O",
    "colab_type": "code",
    "colab": {},
    "ExecuteTime": {
     "end_time": "2023-09-01T23:13:50.524780500Z",
     "start_time": "2023-09-01T23:13:50.517344200Z"
    }
   },
   "source": [
    "def gradiente(theta0,theta1,theta2,theta3,vx1,vx2,vx3,vy,iteraciones):\n",
    "    for i in range (0,iteraciones):\n",
    "        pasothe0=(1/n)*(sum((theta0+(theta1*vx1)+(theta2*vx2)+(theta3*vx3))-vy))\n",
    "        pasothe1=(1/n)*(sum(((theta0+(theta1*vx1)+(theta2*vx2)+(theta3*vx3))-vy)*vx1))\n",
    "        pasothe2=(1/n)*(sum(((theta0+(theta1*vx1)+(theta2*vx2)+(theta3*vx3))-vy)*vx2))\n",
    "        pasothe3=(1/n)*(sum(((theta0+(theta1*vx1)+(theta2*vx2)+(theta3*vx3))-vy)*vx3))\n",
    "        newthe0=theta0-(alpha*pasothe0)\n",
    "        newthe1=theta1-(alpha*pasothe1)\n",
    "        newthe2=theta2-(alpha*pasothe2)\n",
    "        newthe3=theta3-(alpha*pasothe3)\n",
    "        theta0=newthe0\n",
    "        theta1=newthe1\n",
    "        theta2=newthe2\n",
    "        theta3=newthe3\n",
    "        costo=(1/(2*n))*(sum(np.power(((theta0+(theta1*vx1)+(theta2*vx2)+(theta3*vx3))-vy),2)))\n",
    "        h_costo[i]=costo\n",
    "        h_theta0[i]=theta0\n",
    "        h_theta1[i]=theta1\n",
    "        h_theta2[i]=theta2\n",
    "        h_theta3[i]=theta3\n",
    "        '''\n",
    "        print(\"Iteración:\", i)\n",
    "        print(\"theta0:\", theta0)\n",
    "        print(\"theta1:\", theta1)\n",
    "        print(\"theta2:\", theta2)\n",
    "        print(\"theta3:\", theta3)\n",
    "       '''\n",
    "    return(theta0,theta1,theta2,theta3,costo) "
   ],
   "execution_count": 2,
   "outputs": []
  },
  {
   "cell_type": "code",
   "metadata": {
    "id": "BTzMfE4vAy7F",
    "colab_type": "code",
    "colab": {
     "base_uri": "https://localhost:8080/",
     "height": 87
    },
    "outputId": "65cbb955-dbfd-47a9-a844-f587f507e481",
    "ExecuteTime": {
     "end_time": "2023-09-01T23:13:51.323976500Z",
     "start_time": "2023-09-01T23:13:51.303794900Z"
    }
   },
   "source": [
    "'''\n",
    "vx1n=np.array([1,-6,-8,16,0,11,6,10,14,17,1,-7,18,20,14,3,5,16,6,-5])\n",
    "vx2n=np.array([206857,685088,-131306,-373294,-692746,-57871,956798,966015,-108219,671845,416940,-53102,-561725,-240807,798545,417937,-960639,-490075,-904235,-637833])\n",
    "vx3n=np.array([0.2231735,0.4690895,-0.440201,-0.410223,-0.221804,-0.0426665,-0.1048015,0.236295,0.1608625,-0.094537,-0.3756125,0.395804,-0.0589605,0.1125885,-0.139033,0.1756565,-0.206089,0.116917,0.3995305,-0.188502])\n",
    "vy=np.array([2103043413,9274285455,-29717699,-6594404889,-113910791,-1864743667,133538224,1349310685,-2619165431,9082822269,5254587806,-1798827902,-942044552,-4606161294,1098244452,5269867172,-1540798196,-8346383459,-1456192477,-1056890075])\n",
    "'''\n",
    "vx1n=np.array([2,0,3,2,-4,15,15,12,-2,16,6,-4,-6,11,9,12,-9,-9,-7,-3])\n",
    "vx2n=np.array([345389,-547424,904854,-490590,-212143,-623779,961031,18634,316228,-991193,727343,-94948,-967219,-875220,467199,-962308,197022,446998,-883685,836702])\n",
    "vx3n=np.array([-0.277499,0.4283165,-0.1934155,0.323806,0.465037,0.33376,0.161629,0.363547,-0.0381425,0.4868465,0.138648,-0.3425295,0.0723105,-0.121137,-0.4002185,0.4310225,0.2918585,-0.1583325,-0.016224,0.1330475])\n",
    "vy=np.array([418157375,-9211574158,1257380671,-8358411903,-4183577519,-1035235188,1341988419,-7170717735,3742839071,-1586333842,9911875676,-2425248735,-1551012116,-1412493943,6010885109,-1543123551,1952484071,5702349166,-1425736689,1154956348])\n",
    "\n",
    "iteraciones=20000\n",
    "alpha=0.001\n",
    "\n",
    "\"\"\"\n",
    "theta0x=random.uniform(1,10)\n",
    "theta1x=random.uniform(1,10)\n",
    "theta2x=random.uniform(1,10)\n",
    "theta3x=random.uniform(1,10)\n",
    "\"\"\"\n",
    "\n",
    "theta0x=-10000\n",
    "theta1x=3\n",
    "theta2x=1\n",
    "theta3x=-5\n",
    "\n",
    "\n",
    "h_costo=np.empty(iteraciones)\n",
    "h_theta0=np.empty(iteraciones)\n",
    "h_theta1=np.empty(iteraciones)\n",
    "h_theta2=np.empty(iteraciones)\n",
    "h_theta3=np.empty(iteraciones)\n",
    "\n",
    "n=vy.size\n",
    "\n",
    "print(\"theta0:\", theta0x)\n",
    "print(\"theta1:\", theta1x)\n",
    "print(\"theta2:\", theta2x)\n",
    "print(\"theta3:\", theta3x)\n"
   ],
   "execution_count": 3,
   "outputs": [
    {
     "name": "stdout",
     "output_type": "stream",
     "text": [
      "theta0: -10000\n",
      "theta1: 3\n",
      "theta2: 1\n",
      "theta3: -5\n"
     ]
    }
   ]
  },
  {
   "cell_type": "code",
   "metadata": {
    "id": "QbwJ2-CHAy7I",
    "colab_type": "code",
    "colab": {},
    "ExecuteTime": {
     "end_time": "2023-09-01T23:13:52.501200500Z",
     "start_time": "2023-09-01T23:13:52.488072200Z"
    }
   },
   "source": [
    "\n",
    "vx1= (vx1n-np.average(vx1n))/ np.std(vx1n)\n",
    "vx2= (vx2n-np.average(vx2n))/ np.std(vx2n)\n",
    "vx3= (vx3n-np.average(vx3n))/ np.std(vx3n)\n",
    "vy= (vy-np.average(vy))/ np.std(vy)"
   ],
   "execution_count": 4,
   "outputs": []
  },
  {
   "cell_type": "code",
   "metadata": {
    "id": "p2Ni0HbtAy7S",
    "colab_type": "code",
    "colab": {},
    "ExecuteTime": {
     "end_time": "2023-09-01T23:13:54.838399100Z",
     "start_time": "2023-09-01T23:13:53.768307500Z"
    }
   },
   "source": [
    "the0,the1,the2,the3,cost=gradiente(theta0x,theta1x,theta2x,theta3x,vx1,vx2,vx3,vy,iteraciones)"
   ],
   "execution_count": 5,
   "outputs": []
  },
  {
   "cell_type": "code",
   "metadata": {
    "id": "_ENTBhbsAy7V",
    "colab_type": "code",
    "colab": {
     "base_uri": "https://localhost:8080/",
     "height": 104
    },
    "outputId": "e20955ba-0da6-4a17-ca63-1afedf8c44e1",
    "ExecuteTime": {
     "end_time": "2023-09-01T23:13:55.927240100Z",
     "start_time": "2023-09-01T23:13:55.912150200Z"
    }
   },
   "source": [
    "print(\"costo:\", cost)\n",
    "print(\"theta0:\", the0)\n",
    "print(\"theta1:\", the1)\n",
    "print(\"theta2:\", the2)\n",
    "print(\"theta3:\", the3)"
   ],
   "execution_count": 6,
   "outputs": [
    {
     "name": "stdout",
     "output_type": "stream",
     "text": [
      "costo: 0.29494262252802633\n",
      "theta0: -2.0406311867589425e-05\n",
      "theta1: 0.0710853737449497\n",
      "theta2: 0.43819494612066734\n",
      "theta3: -0.3381265840416834\n"
     ]
    }
   ]
  },
  {
   "cell_type": "code",
   "metadata": {
    "id": "QvEdQ04YAy7Z",
    "colab_type": "code",
    "colab": {
     "base_uri": "https://localhost:8080/",
     "height": 293
    },
    "outputId": "cb7ce088-739a-49d2-93d7-d4182027df82",
    "ExecuteTime": {
     "end_time": "2023-09-01T23:13:57.517759100Z",
     "start_time": "2023-09-01T23:13:57.188225200Z"
    }
   },
   "source": [
    "ejex=np.linspace(1,(iteraciones/1000),iteraciones)\n",
    "plt.figure()\n",
    "#plt.subplot(1,2,1)\n",
    "plt.plot(ejex,h_costo,'r')"
   ],
   "execution_count": 7,
   "outputs": [
    {
     "data": {
      "text/plain": "[<matplotlib.lines.Line2D at 0x27202d64f70>]"
     },
     "execution_count": 7,
     "metadata": {},
     "output_type": "execute_result"
    },
    {
     "data": {
      "text/plain": "<Figure size 640x480 with 1 Axes>",
      "image/png": "[encoded data removed]"
     },
     "metadata": {},
     "output_type": "display_data"
    }
   ]
  },
  {
   "cell_type": "markdown",
   "source": [
    "**Copyright**\n",
    "\n",
    "The notebooks are provided as [Open Educational Resource](https://de.wikipedia.org/wiki/Open_Educational_Resources). Feel free to use the notebooks for your own educational purposes. The text is licensed under [Creative Commons Attribution 4.0](https://creativecommons.org/licenses/by/4.0/), the code of the IPython examples under the [MIT license](https://opensource.org/licenses/MIT)."
   ],
   "metadata": {
    "collapsed": false
   }
  },
  {
   "cell_type": "code",
   "execution_count": null,
   "outputs": [],
   "source": [],
   "metadata": {
    "collapsed": false
   }
  }
 ]
}
