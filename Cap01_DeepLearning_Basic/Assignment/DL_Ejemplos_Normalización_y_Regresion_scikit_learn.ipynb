{
 "nbformat": 4,
 "nbformat_minor": 0,
 "metadata": {
  "colab": {
   "name": "Ejemplos_Normalización_y_Regresion_scikit_learn.ipynb",
   "provenance": [],
   "authorship_tag": "ABX9TyMSBmwF4wk37JhzHM5i2y7B",
   "include_colab_link": true
  },
  "kernelspec": {
   "name": "python3",
   "language": "python",
   "display_name": "Python 3 (ipykernel)"
  }
 },
 "cells": [
  {
   "cell_type": "markdown",
   "metadata": {
    "id": "view-in-github",
    "colab_type": "text"
   },
   "source": [
    "<a href=\"https://colab.research.google.com/github/calderonf/CursoMachineLearning/blob/master/Codigo/Ejemplos_Normalizaci%C3%B3n_y_Regresion_scikit_learn.ipynb\" target=\"_parent\"><img src=\"https://colab.research.google.com/assets/colab-badge.svg\" alt=\"Open In Colab\"/></a>"
   ]
  },
  {
   "cell_type": "code",
   "metadata": {
    "colab": {
     "base_uri": "https://localhost:8080/"
    },
    "id": "LIsueOTWTkX-",
    "outputId": "591803b2-df0e-43a0-942e-5d1f159a7c49",
    "ExecuteTime": {
     "end_time": "2023-09-01T23:06:50.150225900Z",
     "start_time": "2023-09-01T23:06:49.423672500Z"
    }
   },
   "source": [
    "from sklearn.preprocessing import StandardScaler\n",
    "data = [[3, 4], [-3, 7], [88, 12], [12, 15]]\n",
    "print(\"datos de entrada X=\",data)\n",
    "scaler = StandardScaler()\n",
    "print(scaler.fit(data))"
   ],
   "execution_count": 1,
   "outputs": [
    {
     "name": "stdout",
     "output_type": "stream",
     "text": [
      "datos de entrada X= [[3, 4], [-3, 7], [88, 12], [12, 15]]\n",
      "StandardScaler()\n"
     ]
    }
   ]
  },
  {
   "cell_type": "code",
   "metadata": {
    "colab": {
     "base_uri": "https://localhost:8080/"
    },
    "id": "fV6-u6gWmGfp",
    "outputId": "0ae400be-dacf-4ab0-a9d6-50a2aa1b0bee",
    "ExecuteTime": {
     "end_time": "2023-09-01T23:06:51.960768200Z",
     "start_time": "2023-09-01T23:06:51.940998500Z"
    }
   },
   "source": [
    "print(\"datos de salida Z=\",scaler.transform(data))"
   ],
   "execution_count": 2,
   "outputs": [
    {
     "name": "stdout",
     "output_type": "stream",
     "text": [
      "datos de salida Z= [[-0.59843179 -1.28745262]\n",
      " [-0.76164046 -0.58520574]\n",
      " [ 1.71369103  0.58520574]\n",
      " [-0.35361878  1.28745262]]\n"
     ]
    }
   ]
  },
  {
   "cell_type": "code",
   "metadata": {
    "colab": {
     "base_uri": "https://localhost:8080/"
    },
    "id": "eZFwcbsumXQG",
    "outputId": "445a9e9c-47a9-4fc5-a9ef-253cd482db1b",
    "ExecuteTime": {
     "end_time": "2023-09-01T23:06:52.925188800Z",
     "start_time": "2023-09-01T23:06:52.913154300Z"
    }
   },
   "source": [
    "from sklearn.preprocessing import MinMaxScaler\n",
    "data = [[3, 4], [-3, 7], [88, 12], [12, 15]]\n",
    "print(\"datos de entrada X=\",data)\n",
    "scaler = MinMaxScaler()\n",
    "print(scaler.fit(data))\n",
    "print(\"datos de salida Z=\",scaler.transform(data))"
   ],
   "execution_count": 3,
   "outputs": [
    {
     "name": "stdout",
     "output_type": "stream",
     "text": [
      "datos de entrada X= [[3, 4], [-3, 7], [88, 12], [12, 15]]\n",
      "MinMaxScaler()\n",
      "datos de salida Z= [[0.06593407 0.        ]\n",
      " [0.         0.27272727]\n",
      " [1.         0.72727273]\n",
      " [0.16483516 1.        ]]\n"
     ]
    }
   ]
  },
  {
   "cell_type": "code",
   "metadata": {
    "colab": {
     "base_uri": "https://localhost:8080/"
    },
    "id": "V-WAslIRo5Q6",
    "outputId": "126acc12-07f7-42e7-fabe-dd2bbb76b785",
    "ExecuteTime": {
     "end_time": "2023-09-01T23:06:55.413704800Z",
     "start_time": "2023-09-01T23:06:55.385759200Z"
    }
   },
   "source": [
    "from sklearn.preprocessing import MaxAbsScaler\n",
    "data = [[3, 4], [-3, 7], [88, 12], [12, 15]]\n",
    "print(\"datos de entrada X=\",data)\n",
    "scaler = MaxAbsScaler()\n",
    "print(scaler.fit(data))\n",
    "print(\"datos de salida Z=\",scaler.transform(data))"
   ],
   "execution_count": 4,
   "outputs": [
    {
     "name": "stdout",
     "output_type": "stream",
     "text": [
      "datos de entrada X= [[3, 4], [-3, 7], [88, 12], [12, 15]]\n",
      "MaxAbsScaler()\n",
      "datos de salida Z= [[ 0.03409091  0.26666667]\n",
      " [-0.03409091  0.46666667]\n",
      " [ 1.          0.8       ]\n",
      " [ 0.13636364  1.        ]]\n"
     ]
    }
   ]
  },
  {
   "cell_type": "code",
   "metadata": {
    "colab": {
     "base_uri": "https://localhost:8080/"
    },
    "id": "mE-F2NUQpjXD",
    "outputId": "f7f0f90c-ef8c-4e44-8b5d-f6b7de6627a4"
   },
   "source": [
    "from sklearn.preprocessing import RobustScaler\n",
    "data = [[3, 4], [-3, 7], [88, 12], [12, 15]]\n",
    "print(\"datos de entrada X=\",data)\n",
    "scaler = RobustScaler()\n",
    "print(scaler.fit(data))\n",
    "print(\"datos de salida Z=\",scaler.transform(data))"
   ],
   "execution_count": null,
   "outputs": [
    {
     "output_type": "stream",
     "text": [
      "datos de entrada X= [[3, 4], [-3, 7], [88, 12], [12, 15]]\n",
      "RobustScaler(copy=True, quantile_range=(25.0, 75.0), with_centering=True,\n",
      "             with_scaling=True)\n",
      "datos de salida Z= [[-0.15254237 -0.84615385]\n",
      " [-0.3559322  -0.38461538]\n",
      " [ 2.72881356  0.38461538]\n",
      " [ 0.15254237  0.84615385]]\n"
     ],
     "name": "stdout"
    }
   ]
  },
  {
   "cell_type": "code",
   "metadata": {
    "id": "Cf7-gz6VrkSu"
   },
   "source": [],
   "execution_count": null,
   "outputs": []
  },
  {
   "cell_type": "markdown",
   "metadata": {
    "id": "uS-iiVLjuY2I"
   },
   "source": [
    "ejemplo least squares sklearn\n"
   ]
  },
  {
   "cell_type": "code",
   "metadata": {
    "colab": {
     "base_uri": "https://localhost:8080/"
    },
    "id": "crPB_N-Eud10",
    "outputId": "966ff32c-3e78-46ed-ba40-253d6aa051ac",
    "ExecuteTime": {
     "end_time": "2023-09-01T23:07:04.500657500Z",
     "start_time": "2023-09-01T23:07:04.232910600Z"
    }
   },
   "source": [
    "import numpy as np\n",
    "from sklearn.linear_model import LinearRegression\n",
    "X = np.array([[1, 1], [1, 2], [2, 2], [2, 3]])\n",
    "\n",
    "y = np.dot(X, np.array([1, 2])) + 3\n",
    "\n",
    "\n",
    "reg = LinearRegression().fit(X, y)\n",
    "\n",
    "print(\"salida de regresión\",reg)\n",
    "print(\"tipo de regresión\",type(reg))\n",
    "print(\"métodos de reg\",dir(reg))\n",
    "print(\"salida a entrada nueva [[3, 5]]\",reg.predict(np.array([[3, 5]])))\n",
    "print(\"salida a entrada nueva [[3, 5],[2.5,2.5]]\",reg.predict(np.array([[3, 5],[2.5,2.5]])))\n",
    "print(\"parametros\",[reg.intercept_,reg.coef_])\n",
    "print(\"R cuadrado\",reg.score(X, y))\n"
   ],
   "execution_count": 5,
   "outputs": [
    {
     "name": "stdout",
     "output_type": "stream",
     "text": [
      "salida de regresión LinearRegression()\n",
      "tipo de regresión <class 'sklearn.linear_model._base.LinearRegression'>\n",
      "métodos de reg ['__abstractmethods__', '__annotations__', '__class__', '__delattr__', '__dict__', '__dir__', '__doc__', '__eq__', '__format__', '__ge__', '__getattribute__', '__getstate__', '__gt__', '__hash__', '__init__', '__init_subclass__', '__le__', '__lt__', '__module__', '__ne__', '__new__', '__reduce__', '__reduce_ex__', '__repr__', '__setattr__', '__setstate__', '__sizeof__', '__str__', '__subclasshook__', '__weakref__', '_abc_impl', '_check_feature_names', '_check_n_features', '_decision_function', '_estimator_type', '_get_param_names', '_get_tags', '_more_tags', '_parameter_constraints', '_repr_html_', '_repr_html_inner', '_repr_mimebundle_', '_set_intercept', '_validate_data', '_validate_params', 'coef_', 'copy_X', 'fit', 'fit_intercept', 'get_params', 'intercept_', 'n_features_in_', 'n_jobs', 'positive', 'predict', 'rank_', 'score', 'set_params', 'singular_']\n",
      "salida a entrada nueva [[3, 5]] [16.]\n",
      "salida a entrada nueva [[3, 5],[2.5,2.5]] [16.  10.5]\n",
      "parametros [3.0000000000000018, array([1., 2.])]\n",
      "R cuadrado 1.0\n"
     ]
    }
   ]
  },
  {
   "cell_type": "code",
   "metadata": {
    "colab": {
     "base_uri": "https://localhost:8080/"
    },
    "id": "zMpPlL0xxXog",
    "outputId": "ef67e4b6-c1f3-4c71-b56d-f08f2856eb70"
   },
   "source": [],
   "execution_count": null,
   "outputs": [
    {
     "output_type": "stream",
     "text": [
      "[ 6  8  9 11]\n"
     ],
     "name": "stdout"
    }
   ]
  },
  {
   "cell_type": "code",
   "metadata": {
    "id": "7iVy9hizxZ0l"
   },
   "source": [],
   "execution_count": null,
   "outputs": []
  }
 ]
}
