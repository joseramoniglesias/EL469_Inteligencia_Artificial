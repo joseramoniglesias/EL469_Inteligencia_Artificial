{
 "cells": [
  {
   "cell_type": "markdown",
   "source": [
    "# Inteigencia Artificial<a class=\"tocSkip\">\n",
    "## Machine Learning <a class=\"tocSkip\">\n",
    "### Ingenieria Electrónica <a class=\"tocSkip\">\n",
    "### Universidad Popular del Cesar <a class=\"tocSkip\">\n",
    "### Prof.: Jose Ramón Iglesias Gamarra - [https://github.com/joseramoniglesias/](https://github.com/joseramoniglesias/) <a class=\"tocSkip\">\n",
    "  **joseiglesias@unicesar.edu.co**"
   ],
   "metadata": {
    "collapsed": false
   },
   "id": "aab3ff015180b5c6"
  },
  {
   "cell_type": "markdown",
   "source": [
    "# Introduction #\n",
    "\n",
    "Welcome to the feature engineering project for the [House Prices - Advanced Regression Techniques](https://www.kaggle.com/c/house-prices-advanced-regression-techniques) competition! This competition uses nearly the same data you used in the exercises of the [Feature Engineering](https://www.kaggle.com/learn/feature-engineering) course. We'll collect together the work you did into a complete project which you can build off of with ideas of your own.\n",
    "\n",
    "<blockquote style=\"margin-right:auto; margin-left:auto; background-color: #ebf9ff; padding: 1em; margin:24px;\">\n",
    "    <strong>Fork This Notebook!</strong><br>\n",
    "Create your own editable copy of this notebook by clicking on the <strong>Copy and Edit</strong> button in the top right corner.\n",
    "</blockquote>\n",
    "\n",
    "# Step 1 - Preliminaries #\n",
    "## Imports and Configuration ##\n",
    "\n",
    "We'll start by importing the packages we used in the exercises and setting some notebook defaults. Unhide this cell if you'd like to see the libraries we'll use:"
   ],
   "metadata": {
    "papermill": {
     "duration": 0.014053,
     "end_time": "2023-09-05T22:43:14.720663",
     "exception": false,
     "start_time": "2023-09-05T22:43:14.706610",
     "status": "completed"
    },
    "tags": []
   },
   "id": "af41b9b9"
  },
  {
   "cell_type": "code",
   "id": "44f297f9",
   "metadata": {
    "_kg_hide-input": true,
    "execution": {
     "iopub.execute_input": "2023-09-05T22:43:14.750975Z",
     "iopub.status.busy": "2023-09-05T22:43:14.750150Z",
     "iopub.status.idle": "2023-09-05T22:43:18.536943Z",
     "shell.execute_reply": "2023-09-05T22:43:18.535637Z"
    },
    "papermill": {
     "duration": 3.805326,
     "end_time": "2023-09-05T22:43:18.539893",
     "exception": false,
     "start_time": "2023-09-05T22:43:14.734567",
     "status": "completed"
    },
    "tags": [],
    "ExecuteTime": {
     "end_time": "2025-02-22T16:59:53.650905Z",
     "start_time": "2025-02-22T16:59:53.584876Z"
    }
   },
   "source": [
    "\n",
    "import os\n",
    "import warnings\n",
    "from pathlib import Path\n",
    "\n",
    "import matplotlib.pyplot as plt\n",
    "import numpy as np\n",
    "import pandas as pd\n",
    "import seaborn as sns\n",
    "from IPython.display import display\n",
    "from pandas.api.types import CategoricalDtype\n",
    "\n",
    "from category_encoders import MEstimateEncoder\n",
    "from sklearn.cluster import KMeans\n",
    "from sklearn.decomposition import PCA\n",
    "from sklearn.feature_selection import mutual_info_regression\n",
    "from sklearn.model_selection import KFold, cross_val_score\n",
    "from xgboost import XGBRegressor\n",
    "\n",
    "\n",
    "# Set Matplotlib defaults\n",
    "plt.style.use(\"ggplot\")\n",
    "plt.rc(\"figure\", autolayout=True)\n",
    "plt.rc(\n",
    "    \"axes\",\n",
    "    labelweight=\"bold\",\n",
    "    labelsize=\"large\",\n",
    "    titleweight=\"bold\",\n",
    "    titlesize=14,\n",
    "    titlepad=10,\n",
    ")\n",
    "\n",
    "# Mute warnings\n",
    "warnings.filterwarnings('ignore')\n"
   ],
   "outputs": [],
   "execution_count": 4
  },
  {
   "cell_type": "markdown",
   "id": "5f640ebb",
   "metadata": {
    "papermill": {
     "duration": 0.013393,
     "end_time": "2023-09-05T22:43:18.567772",
     "exception": false,
     "start_time": "2023-09-05T22:43:18.554379",
     "status": "completed"
    },
    "tags": []
   },
   "source": [
    "## Data Preprocessing ##\n",
    "\n",
    "Before we can do any feature engineering, we need to *preprocess* the data to get it in a form suitable for analysis. The data we used in the course was a bit simpler than the competition data. For the *Ames* competition dataset, we'll need to:\n",
    "- **Load** the data from CSV files\n",
    "- **Clean** the data to fix any errors or inconsistencies\n",
    "- **Encode** the statistical data type (numeric, categorical)\n",
    "- **Impute** any missing values\n",
    "\n",
    "We'll wrap all these steps up in a function, which will make easy for you to get a fresh dataframe whenever you need. After reading the CSV file, we'll apply three preprocessing steps, `clean`, `encode`, and `impute`, and then create the data splits: one (`df_train`) for training the model, and one (`df_test`) for making the predictions that you'll submit to the competition for scoring on the leaderboard."
   ]
  },
  {
   "cell_type": "code",
   "id": "d2944468",
   "metadata": {
    "execution": {
     "iopub.execute_input": "2023-09-05T22:43:18.599118Z",
     "iopub.status.busy": "2023-09-05T22:43:18.597711Z",
     "iopub.status.idle": "2023-09-05T22:43:18.609390Z",
     "shell.execute_reply": "2023-09-05T22:43:18.608118Z"
    },
    "papermill": {
     "duration": 0.030096,
     "end_time": "2023-09-05T22:43:18.612141",
     "exception": false,
     "start_time": "2023-09-05T22:43:18.582045",
     "status": "completed"
    },
    "tags": [],
    "ExecuteTime": {
     "end_time": "2025-02-22T17:00:00.510783Z",
     "start_time": "2025-02-22T17:00:00.504275Z"
    }
   },
   "source": [
    "def load_data():\n",
    "    # Read data\n",
    "    data_dir = Path(\"/ClasesUPC_2025_1/EL469_InteligenciaArtificial/Clases_2025_1/MachineLearning/Semana_2/Clase_4/\")\n",
    "    df_train = pd.read_csv(data_dir / \"train.csv\", index_col=\"Id\")\n",
    "    df_test = pd.read_csv(data_dir / \"test.csv\", index_col=\"Id\")\n",
    "    # Merge the splits so we can process them together\n",
    "    df = pd.concat([df_train, df_test])\n",
    "    # Preprocessing\n",
    "    df = clean(df)\n",
    "    df = encode(df)\n",
    "    df = impute(df)\n",
    "    # Reform splits\n",
    "    df_train = df.loc[df_train.index, :]\n",
    "    df_test = df.loc[df_test.index, :]\n",
    "    return df_train, df_test\n"
   ],
   "outputs": [],
   "execution_count": 5
  },
  {
   "cell_type": "markdown",
   "id": "b6eea9f2",
   "metadata": {
    "papermill": {
     "duration": 0.014386,
     "end_time": "2023-09-05T22:43:18.640566",
     "exception": false,
     "start_time": "2023-09-05T22:43:18.626180",
     "status": "completed"
    },
    "tags": []
   },
   "source": [
    "### Clean Data ###\n",
    "\n",
    "Some of the categorical features in this dataset have what are apparently typos in their categories:"
   ]
  },
  {
   "cell_type": "code",
   "id": "45293e51",
   "metadata": {
    "execution": {
     "iopub.execute_input": "2023-09-05T22:43:18.671458Z",
     "iopub.status.busy": "2023-09-05T22:43:18.670904Z",
     "iopub.status.idle": "2023-09-05T22:43:18.755543Z",
     "shell.execute_reply": "2023-09-05T22:43:18.754255Z"
    },
    "papermill": {
     "duration": 0.103002,
     "end_time": "2023-09-05T22:43:18.758226",
     "exception": false,
     "start_time": "2023-09-05T22:43:18.655224",
     "status": "completed"
    },
    "tags": [],
    "ExecuteTime": {
     "end_time": "2025-02-22T17:00:09.804078Z",
     "start_time": "2025-02-22T17:00:09.732489Z"
    }
   },
   "source": [
    "data_dir = Path(\"/ClasesUPC_2025_1/EL469_InteligenciaArtificial/Clases_2025_1/MachineLearning/Semana_2/Clase_4/\")\n",
    "df = pd.read_csv(data_dir / \"train.csv\", index_col=\"Id\")\n",
    "\n",
    "df.Exterior2nd.unique()"
   ],
   "outputs": [
    {
     "data": {
      "text/plain": [
       "array(['VinylSd', 'MetalSd', 'Wd Shng', 'HdBoard', 'Plywood', 'Wd Sdng',\n",
       "       'CmentBd', 'BrkFace', 'Stucco', 'AsbShng', 'Brk Cmn', 'ImStucc',\n",
       "       'AsphShn', 'Stone', 'Other', 'CBlock'], dtype=object)"
      ]
     },
     "execution_count": 6,
     "metadata": {},
     "output_type": "execute_result"
    }
   ],
   "execution_count": 6
  },
  {
   "cell_type": "markdown",
   "id": "ac93630e",
   "metadata": {
    "papermill": {
     "duration": 0.013465,
     "end_time": "2023-09-05T22:43:18.785903",
     "exception": false,
     "start_time": "2023-09-05T22:43:18.772438",
     "status": "completed"
    },
    "tags": []
   },
   "source": [
    "Comparing these to `data_description.txt` shows us what needs cleaning. We'll take care of a couple of issues here, but you might want to evaluate this data further."
   ]
  },
  {
   "cell_type": "code",
   "id": "20b393e6",
   "metadata": {
    "execution": {
     "iopub.execute_input": "2023-09-05T22:43:18.817247Z",
     "iopub.status.busy": "2023-09-05T22:43:18.815984Z",
     "iopub.status.idle": "2023-09-05T22:43:18.824102Z",
     "shell.execute_reply": "2023-09-05T22:43:18.822992Z"
    },
    "papermill": {
     "duration": 0.026834,
     "end_time": "2023-09-05T22:43:18.826670",
     "exception": false,
     "start_time": "2023-09-05T22:43:18.799836",
     "status": "completed"
    },
    "tags": [],
    "ExecuteTime": {
     "end_time": "2025-02-22T17:00:23.276940Z",
     "start_time": "2025-02-22T17:00:23.268817Z"
    }
   },
   "source": [
    "def clean(df):\n",
    "    df[\"Exterior2nd\"] = df[\"Exterior2nd\"].replace({\"Brk Cmn\": \"BrkComm\"})\n",
    "    # Some values of GarageYrBlt are corrupt, so we'll replace them\n",
    "    # with the year the house was built\n",
    "    df[\"GarageYrBlt\"] = df[\"GarageYrBlt\"].where(df.GarageYrBlt <= 2010, df.YearBuilt)\n",
    "    # Names beginning with numbers are awkward to work with\n",
    "    df.rename(columns={\n",
    "        \"1stFlrSF\": \"FirstFlrSF\",\n",
    "        \"2ndFlrSF\": \"SecondFlrSF\",\n",
    "        \"3SsnPorch\": \"Threeseasonporch\",\n",
    "    }, inplace=True,\n",
    "    )\n",
    "    return df\n"
   ],
   "outputs": [],
   "execution_count": 7
  },
  {
   "cell_type": "markdown",
   "id": "e5bf89b2",
   "metadata": {
    "papermill": {
     "duration": 0.013777,
     "end_time": "2023-09-05T22:43:18.854836",
     "exception": false,
     "start_time": "2023-09-05T22:43:18.841059",
     "status": "completed"
    },
    "tags": []
   },
   "source": [
    "### Encode the Statistical Data Type ###\n",
    "\n",
    "Pandas has Python types corresponding to the standard statistical types (numeric, categorical, etc.). Encoding each feature with its correct type helps ensure each feature is treated appropriately by whatever functions we use, and makes it easier for us to apply transformations consistently. This hidden cell defines the `encode` function:"
   ]
  },
  {
   "cell_type": "code",
   "id": "feab937e",
   "metadata": {
    "_kg_hide-input": true,
    "execution": {
     "iopub.execute_input": "2023-09-05T22:43:18.885670Z",
     "iopub.status.busy": "2023-09-05T22:43:18.885149Z",
     "iopub.status.idle": "2023-09-05T22:43:18.902600Z",
     "shell.execute_reply": "2023-09-05T22:43:18.901448Z"
    },
    "papermill": {
     "duration": 0.03651,
     "end_time": "2023-09-05T22:43:18.905693",
     "exception": false,
     "start_time": "2023-09-05T22:43:18.869183",
     "status": "completed"
    },
    "tags": [],
    "ExecuteTime": {
     "end_time": "2025-02-22T17:00:35.547755Z",
     "start_time": "2025-02-22T17:00:35.536856Z"
    }
   },
   "source": [
    "\n",
    "# The numeric features are already encoded correctly (`float` for\n",
    "# continuous, `int` for discrete), but the categoricals we'll need to\n",
    "# do ourselves. Note in particular, that the `MSSubClass` feature is\n",
    "# read as an `int` type, but is actually a (nominative) categorical.\n",
    "\n",
    "# The nominative (unordered) categorical features\n",
    "features_nom = [\"MSSubClass\", \"MSZoning\", \"Street\", \"Alley\", \"LandContour\", \"LotConfig\", \"Neighborhood\", \"Condition1\", \"Condition2\", \"BldgType\", \"HouseStyle\", \"RoofStyle\", \"RoofMatl\", \"Exterior1st\", \"Exterior2nd\", \"MasVnrType\", \"Foundation\", \"Heating\", \"CentralAir\", \"GarageType\", \"MiscFeature\", \"SaleType\", \"SaleCondition\"]\n",
    "\n",
    "\n",
    "# The ordinal (ordered) categorical features \n",
    "\n",
    "# Pandas calls the categories \"levels\"\n",
    "five_levels = [\"Po\", \"Fa\", \"TA\", \"Gd\", \"Ex\"]\n",
    "ten_levels = list(range(10))\n",
    "\n",
    "ordered_levels = {\n",
    "    \"OverallQual\": ten_levels,\n",
    "    \"OverallCond\": ten_levels,\n",
    "    \"ExterQual\": five_levels,\n",
    "    \"ExterCond\": five_levels,\n",
    "    \"BsmtQual\": five_levels,\n",
    "    \"BsmtCond\": five_levels,\n",
    "    \"HeatingQC\": five_levels,\n",
    "    \"KitchenQual\": five_levels,\n",
    "    \"FireplaceQu\": five_levels,\n",
    "    \"GarageQual\": five_levels,\n",
    "    \"GarageCond\": five_levels,\n",
    "    \"PoolQC\": five_levels,\n",
    "    \"LotShape\": [\"Reg\", \"IR1\", \"IR2\", \"IR3\"],\n",
    "    \"LandSlope\": [\"Sev\", \"Mod\", \"Gtl\"],\n",
    "    \"BsmtExposure\": [\"No\", \"Mn\", \"Av\", \"Gd\"],\n",
    "    \"BsmtFinType1\": [\"Unf\", \"LwQ\", \"Rec\", \"BLQ\", \"ALQ\", \"GLQ\"],\n",
    "    \"BsmtFinType2\": [\"Unf\", \"LwQ\", \"Rec\", \"BLQ\", \"ALQ\", \"GLQ\"],\n",
    "    \"Functional\": [\"Sal\", \"Sev\", \"Maj1\", \"Maj2\", \"Mod\", \"Min2\", \"Min1\", \"Typ\"],\n",
    "    \"GarageFinish\": [\"Unf\", \"RFn\", \"Fin\"],\n",
    "    \"PavedDrive\": [\"N\", \"P\", \"Y\"],\n",
    "    \"Utilities\": [\"NoSeWa\", \"NoSewr\", \"AllPub\"],\n",
    "    \"CentralAir\": [\"N\", \"Y\"],\n",
    "    \"Electrical\": [\"Mix\", \"FuseP\", \"FuseF\", \"FuseA\", \"SBrkr\"],\n",
    "    \"Fence\": [\"MnWw\", \"GdWo\", \"MnPrv\", \"GdPrv\"],\n",
    "}\n",
    "\n",
    "# Add a None level for missing values\n",
    "ordered_levels = {key: [\"None\"] + value for key, value in\n",
    "                  ordered_levels.items()}\n",
    "\n",
    "\n",
    "def encode(df):\n",
    "    # Nominal categories\n",
    "    for name in features_nom:\n",
    "        df[name] = df[name].astype(\"category\")\n",
    "        # Add a None category for missing values\n",
    "        if \"None\" not in df[name].cat.categories:\n",
    "            df[name] = df[name].cat.add_categories(\"None\")\n",
    "    # Ordinal categories\n",
    "    for name, levels in ordered_levels.items():\n",
    "        df[name] = df[name].astype(CategoricalDtype(levels,\n",
    "                                                    ordered=True))\n",
    "    return df\n"
   ],
   "outputs": [],
   "execution_count": 8
  },
  {
   "cell_type": "markdown",
   "id": "054b6770",
   "metadata": {
    "papermill": {
     "duration": 0.013852,
     "end_time": "2023-09-05T22:43:18.934093",
     "exception": false,
     "start_time": "2023-09-05T22:43:18.920241",
     "status": "completed"
    },
    "tags": []
   },
   "source": [
    "### Handle Missing Values ###\n",
    "\n",
    "Handling missing values now will make the feature engineering go more smoothly. We'll impute `0` for missing numeric values and `\"None\"` for missing categorical values. You might like to experiment with other imputation strategies. In particular, you could try creating \"missing value\" indicators: `1` whenever a value was imputed and `0` otherwise."
   ]
  },
  {
   "cell_type": "code",
   "id": "818fdb0f",
   "metadata": {
    "execution": {
     "iopub.execute_input": "2023-09-05T22:43:18.967117Z",
     "iopub.status.busy": "2023-09-05T22:43:18.966083Z",
     "iopub.status.idle": "2023-09-05T22:43:18.973110Z",
     "shell.execute_reply": "2023-09-05T22:43:18.972098Z"
    },
    "papermill": {
     "duration": 0.027505,
     "end_time": "2023-09-05T22:43:18.975910",
     "exception": false,
     "start_time": "2023-09-05T22:43:18.948405",
     "status": "completed"
    },
    "tags": [],
    "ExecuteTime": {
     "end_time": "2025-02-22T17:00:45.930673Z",
     "start_time": "2025-02-22T17:00:45.925892Z"
    }
   },
   "source": [
    "def impute(df):\n",
    "    for name in df.select_dtypes(\"number\"):\n",
    "        df[name] = df[name].fillna(0)\n",
    "    for name in df.select_dtypes(\"category\"):\n",
    "        df[name] = df[name].fillna(\"None\")\n",
    "    return df\n"
   ],
   "outputs": [],
   "execution_count": 9
  },
  {
   "cell_type": "markdown",
   "id": "79668265",
   "metadata": {
    "papermill": {
     "duration": 0.013701,
     "end_time": "2023-09-05T22:43:19.004192",
     "exception": false,
     "start_time": "2023-09-05T22:43:18.990491",
     "status": "completed"
    },
    "tags": []
   },
   "source": [
    "## Load Data ##\n",
    "\n",
    "And now we can call the data loader and get the processed data splits:"
   ]
  },
  {
   "cell_type": "code",
   "id": "62e42016",
   "metadata": {
    "execution": {
     "iopub.execute_input": "2023-09-05T22:43:19.036083Z",
     "iopub.status.busy": "2023-09-05T22:43:19.035050Z",
     "iopub.status.idle": "2023-09-05T22:43:19.250862Z",
     "shell.execute_reply": "2023-09-05T22:43:19.249206Z"
    },
    "papermill": {
     "duration": 0.235753,
     "end_time": "2023-09-05T22:43:19.254425",
     "exception": false,
     "start_time": "2023-09-05T22:43:19.018672",
     "status": "completed"
    },
    "tags": [],
    "ExecuteTime": {
     "end_time": "2025-02-22T17:00:54.554887Z",
     "start_time": "2025-02-22T17:00:54.434301Z"
    }
   },
   "source": [
    "df_train, df_test = load_data()"
   ],
   "outputs": [],
   "execution_count": 10
  },
  {
   "cell_type": "markdown",
   "id": "91564539",
   "metadata": {
    "papermill": {
     "duration": 0.013724,
     "end_time": "2023-09-05T22:43:19.283197",
     "exception": false,
     "start_time": "2023-09-05T22:43:19.269473",
     "status": "completed"
    },
    "tags": []
   },
   "source": [
    "Uncomment and run this cell if you'd like to see what they contain. Notice that `df_test` is\n",
    "missing values for `SalePrice`. (`NA`s were willed with 0's in the imputation step.)"
   ]
  },
  {
   "cell_type": "code",
   "execution_count": 8,
   "id": "13ca6be6",
   "metadata": {
    "execution": {
     "iopub.execute_input": "2023-09-05T22:43:19.314906Z",
     "iopub.status.busy": "2023-09-05T22:43:19.314433Z",
     "iopub.status.idle": "2023-09-05T22:43:19.319354Z",
     "shell.execute_reply": "2023-09-05T22:43:19.318189Z"
    },
    "papermill": {
     "duration": 0.02365,
     "end_time": "2023-09-05T22:43:19.321684",
     "exception": false,
     "start_time": "2023-09-05T22:43:19.298034",
     "status": "completed"
    },
    "tags": []
   },
   "outputs": [],
   "source": [
    "# Peek at the values\n",
    "#display(df_train)\n",
    "#display(df_test)\n",
    "\n",
    "# Display information about dtypes and missing values\n",
    "#display(df_train.info())\n",
    "#display(df_test.info())"
   ]
  },
  {
   "cell_type": "markdown",
   "id": "22933e8d",
   "metadata": {
    "papermill": {
     "duration": 0.014043,
     "end_time": "2023-09-05T22:43:19.350457",
     "exception": false,
     "start_time": "2023-09-05T22:43:19.336414",
     "status": "completed"
    },
    "tags": []
   },
   "source": [
    "## Establish Baseline ##\n",
    "\n",
    "Finally, let's establish a baseline score to judge our feature engineering against.\n",
    "\n",
    "Here is the function we created in Lesson 1 that will compute the cross-validated RMSLE score for a feature set. We've used XGBoost for our model, but you might want to experiment with other models.\n"
   ]
  },
  {
   "cell_type": "code",
   "id": "d0bcf02b",
   "metadata": {
    "_kg_hide-input": true,
    "execution": {
     "iopub.execute_input": "2023-09-05T22:43:19.381658Z",
     "iopub.status.busy": "2023-09-05T22:43:19.381145Z",
     "iopub.status.idle": "2023-09-05T22:43:19.389396Z",
     "shell.execute_reply": "2023-09-05T22:43:19.387991Z"
    },
    "papermill": {
     "duration": 0.026649,
     "end_time": "2023-09-05T22:43:19.391708",
     "exception": false,
     "start_time": "2023-09-05T22:43:19.365059",
     "status": "completed"
    },
    "tags": [],
    "ExecuteTime": {
     "end_time": "2025-02-22T17:01:16.058363Z",
     "start_time": "2025-02-22T17:01:16.051908Z"
    }
   },
   "source": [
    "\n",
    "def score_dataset(X, y, model=XGBRegressor()):\n",
    "    # Label encoding for categoricals\n",
    "    #\n",
    "    # Label encoding is good for XGBoost and RandomForest, but one-hot\n",
    "    # would be better for models like Lasso or Ridge. The `cat.codes`\n",
    "    # attribute holds the category levels.\n",
    "    for colname in X.select_dtypes([\"category\"]):\n",
    "        X[colname] = X[colname].cat.codes\n",
    "    # Metric for Housing competition is RMSLE (Root Mean Squared Log Error)\n",
    "    log_y = np.log(y)\n",
    "    score = cross_val_score(\n",
    "        model, X, log_y, cv=5, scoring=\"neg_mean_squared_error\",\n",
    "    )\n",
    "    score = -1 * score.mean()\n",
    "    score = np.sqrt(score)\n",
    "    return score\n"
   ],
   "outputs": [],
   "execution_count": 11
  },
  {
   "cell_type": "markdown",
   "id": "67a7823f",
   "metadata": {
    "papermill": {
     "duration": 0.014869,
     "end_time": "2023-09-05T22:43:19.421076",
     "exception": false,
     "start_time": "2023-09-05T22:43:19.406207",
     "status": "completed"
    },
    "tags": []
   },
   "source": [
    "We can reuse this scoring function anytime we want to try out a new feature set. We'll run it now on the processed data with no additional features and get a baseline score:"
   ]
  },
  {
   "cell_type": "code",
   "id": "ee134a7c",
   "metadata": {
    "execution": {
     "iopub.execute_input": "2023-09-05T22:43:19.555521Z",
     "iopub.status.busy": "2023-09-05T22:43:19.554442Z",
     "iopub.status.idle": "2023-09-05T22:43:22.174077Z",
     "shell.execute_reply": "2023-09-05T22:43:22.172751Z"
    },
    "papermill": {
     "duration": 2.640541,
     "end_time": "2023-09-05T22:43:22.177614",
     "exception": false,
     "start_time": "2023-09-05T22:43:19.537073",
     "status": "completed"
    },
    "tags": [],
    "ExecuteTime": {
     "end_time": "2025-02-22T17:01:24.012774Z",
     "start_time": "2025-02-22T17:01:22.533090Z"
    }
   },
   "source": [
    "X = df_train.copy()\n",
    "y = X.pop(\"SalePrice\")\n",
    "\n",
    "baseline_score = score_dataset(X, y)\n",
    "print(f\"Baseline score: {baseline_score:.5f} RMSLE\")"
   ],
   "outputs": [
    {
     "name": "stdout",
     "output_type": "stream",
     "text": [
      "Baseline score: 0.14387 RMSLE\n"
     ]
    }
   ],
   "execution_count": 12
  },
  {
   "cell_type": "markdown",
   "id": "a5e50359",
   "metadata": {
    "papermill": {
     "duration": 0.014459,
     "end_time": "2023-09-05T22:43:22.208103",
     "exception": false,
     "start_time": "2023-09-05T22:43:22.193644",
     "status": "completed"
    },
    "tags": []
   },
   "source": [
    "This baseline score helps us to know whether some set of features we've assembled has actually led to any improvement or not.\n",
    "\n",
    "# Step 2 - Feature Utility Scores #\n",
    "\n",
    "In Lesson 2 we saw how to use mutual information to compute a *utility score* for a feature, giving you an indication of how much potential the feature has. This hidden cell defines the two utility functions we used, `make_mi_scores` and `plot_mi_scores`: "
   ]
  },
  {
   "cell_type": "code",
   "id": "b6fa72f9",
   "metadata": {
    "_kg_hide-input": true,
    "execution": {
     "iopub.execute_input": "2023-09-05T22:43:22.242469Z",
     "iopub.status.busy": "2023-09-05T22:43:22.241525Z",
     "iopub.status.idle": "2023-09-05T22:43:22.251729Z",
     "shell.execute_reply": "2023-09-05T22:43:22.250524Z"
    },
    "papermill": {
     "duration": 0.029312,
     "end_time": "2023-09-05T22:43:22.254342",
     "exception": false,
     "start_time": "2023-09-05T22:43:22.225030",
     "status": "completed"
    },
    "tags": [],
    "ExecuteTime": {
     "end_time": "2025-02-22T17:01:31.436465Z",
     "start_time": "2025-02-22T17:01:31.429950Z"
    }
   },
   "source": [
    "\n",
    "def make_mi_scores(X, y):\n",
    "    X = X.copy()\n",
    "    for colname in X.select_dtypes([\"object\", \"category\"]):\n",
    "        X[colname], _ = X[colname].factorize()\n",
    "    # All discrete features should now have integer dtypes\n",
    "    discrete_features = [pd.api.types.is_integer_dtype(t) for t in X.dtypes]\n",
    "    mi_scores = mutual_info_regression(X, y, discrete_features=discrete_features, random_state=0)\n",
    "    mi_scores = pd.Series(mi_scores, name=\"MI Scores\", index=X.columns)\n",
    "    mi_scores = mi_scores.sort_values(ascending=False)\n",
    "    return mi_scores\n",
    "\n",
    "\n",
    "def plot_mi_scores(scores):\n",
    "    scores = scores.sort_values(ascending=True)\n",
    "    width = np.arange(len(scores))\n",
    "    ticks = list(scores.index)\n",
    "    plt.barh(width, scores)\n",
    "    plt.yticks(width, ticks)\n",
    "    plt.title(\"Mutual Information Scores\")"
   ],
   "outputs": [],
   "execution_count": 13
  },
  {
   "cell_type": "markdown",
   "id": "9a4fbfc5",
   "metadata": {
    "papermill": {
     "duration": 0.014536,
     "end_time": "2023-09-05T22:43:22.283865",
     "exception": false,
     "start_time": "2023-09-05T22:43:22.269329",
     "status": "completed"
    },
    "tags": []
   },
   "source": [
    "Let's look at our feature scores again:"
   ]
  },
  {
   "cell_type": "code",
   "id": "6d62e45e",
   "metadata": {
    "execution": {
     "iopub.execute_input": "2023-09-05T22:43:22.315985Z",
     "iopub.status.busy": "2023-09-05T22:43:22.315466Z",
     "iopub.status.idle": "2023-09-05T22:43:24.869199Z",
     "shell.execute_reply": "2023-09-05T22:43:24.867750Z"
    },
    "papermill": {
     "duration": 2.573627,
     "end_time": "2023-09-05T22:43:24.872235",
     "exception": false,
     "start_time": "2023-09-05T22:43:22.298608",
     "status": "completed"
    },
    "tags": [],
    "ExecuteTime": {
     "end_time": "2025-02-22T17:01:42.558636Z",
     "start_time": "2025-02-22T17:01:38.447394Z"
    }
   },
   "source": [
    "X = df_train.copy()\n",
    "y = X.pop(\"SalePrice\")\n",
    "\n",
    "mi_scores = make_mi_scores(X, y)\n",
    "mi_scores"
   ],
   "outputs": [
    {
     "data": {
      "text/plain": [
       "OverallQual     0.571457\n",
       "Neighborhood    0.526220\n",
       "GrLivArea       0.430395\n",
       "YearBuilt       0.407974\n",
       "LotArea         0.394468\n",
       "                  ...   \n",
       "PoolQC          0.000000\n",
       "MiscVal         0.000000\n",
       "MiscFeature     0.000000\n",
       "YrSold          0.000000\n",
       "MoSold          0.000000\n",
       "Name: MI Scores, Length: 79, dtype: float64"
      ]
     },
     "execution_count": 14,
     "metadata": {},
     "output_type": "execute_result"
    }
   ],
   "execution_count": 14
  },
  {
   "cell_type": "markdown",
   "id": "8e583633",
   "metadata": {
    "papermill": {
     "duration": 0.015087,
     "end_time": "2023-09-05T22:43:24.903605",
     "exception": false,
     "start_time": "2023-09-05T22:43:24.888518",
     "status": "completed"
    },
    "tags": []
   },
   "source": [
    "You can see that we have a number of features that are highly informative and also some that don't seem to be informative at all (at least by themselves). As we talked about in Tutorial 2, the top scoring features will usually pay-off the most during feature development, so it could be a good idea to focus your efforts on those. On the other hand, training on uninformative features can lead to overfitting. So, the features with 0.0 scores we'll drop entirely:"
   ]
  },
  {
   "cell_type": "code",
   "id": "f29655e6",
   "metadata": {
    "execution": {
     "iopub.execute_input": "2023-09-05T22:43:24.937430Z",
     "iopub.status.busy": "2023-09-05T22:43:24.936043Z",
     "iopub.status.idle": "2023-09-05T22:43:24.941880Z",
     "shell.execute_reply": "2023-09-05T22:43:24.940797Z"
    },
    "papermill": {
     "duration": 0.025573,
     "end_time": "2023-09-05T22:43:24.944525",
     "exception": false,
     "start_time": "2023-09-05T22:43:24.918952",
     "status": "completed"
    },
    "tags": [],
    "ExecuteTime": {
     "end_time": "2025-02-22T17:01:47.841920Z",
     "start_time": "2025-02-22T17:01:47.837182Z"
    }
   },
   "source": [
    "def drop_uninformative(df, mi_scores):\n",
    "    return df.loc[:, mi_scores > 0.0]\n"
   ],
   "outputs": [],
   "execution_count": 15
  },
  {
   "cell_type": "markdown",
   "id": "fe13c2bc",
   "metadata": {
    "papermill": {
     "duration": 0.015341,
     "end_time": "2023-09-05T22:43:24.975582",
     "exception": false,
     "start_time": "2023-09-05T22:43:24.960241",
     "status": "completed"
    },
    "tags": []
   },
   "source": [
    "Removing them does lead to a modest performance gain:"
   ]
  },
  {
   "cell_type": "code",
   "id": "9bc7b9ac",
   "metadata": {
    "execution": {
     "iopub.execute_input": "2023-09-05T22:43:25.009193Z",
     "iopub.status.busy": "2023-09-05T22:43:25.008232Z",
     "iopub.status.idle": "2023-09-05T22:43:28.318340Z",
     "shell.execute_reply": "2023-09-05T22:43:28.317246Z"
    },
    "papermill": {
     "duration": 3.330846,
     "end_time": "2023-09-05T22:43:28.321563",
     "exception": false,
     "start_time": "2023-09-05T22:43:24.990717",
     "status": "completed"
    },
    "tags": [],
    "ExecuteTime": {
     "end_time": "2025-02-22T17:01:51.713890Z",
     "start_time": "2025-02-22T17:01:50.543045Z"
    }
   },
   "source": [
    "X = df_train.copy()\n",
    "y = X.pop(\"SalePrice\")\n",
    "X = drop_uninformative(X, mi_scores)\n",
    "\n",
    "score_dataset(X, y)"
   ],
   "outputs": [
    {
     "data": {
      "text/plain": [
       "np.float64(0.1441513588582852)"
      ]
     },
     "execution_count": 16,
     "metadata": {},
     "output_type": "execute_result"
    }
   ],
   "execution_count": 16
  },
  {
   "cell_type": "markdown",
   "id": "f7814cc0",
   "metadata": {
    "papermill": {
     "duration": 0.01613,
     "end_time": "2023-09-05T22:43:28.354498",
     "exception": false,
     "start_time": "2023-09-05T22:43:28.338368",
     "status": "completed"
    },
    "tags": []
   },
   "source": [
    "Later, we'll add the `drop_uninformative` function to our feature-creation pipeline.\n",
    "\n",
    "# Step 3 - Create Features #\n",
    "\n",
    "Now we'll start developing our feature set.\n",
    "\n",
    "To make our feature engineering workflow more modular, we'll define a function that will take a prepared dataframe and pass it through a pipeline of transformations to get the final feature set. It will look something like this:\n",
    "\n",
    "```\n",
    "def create_features(df):\n",
    "    X = df.copy()\n",
    "    y = X.pop(\"SalePrice\")\n",
    "    X = X.join(create_features_1(X))\n",
    "    X = X.join(create_features_2(X))\n",
    "    X = X.join(create_features_3(X))\n",
    "    # ...\n",
    "    return X\n",
    "```\n",
    "\n",
    "Let's go ahead and define one transformation now, a [label encoding](https://www.kaggle.com/alexisbcook/categorical-variables) for the categorical features:"
   ]
  },
  {
   "cell_type": "code",
   "id": "d97da80d",
   "metadata": {
    "execution": {
     "iopub.execute_input": "2023-09-05T22:43:28.389285Z",
     "iopub.status.busy": "2023-09-05T22:43:28.388742Z",
     "iopub.status.idle": "2023-09-05T22:43:28.395400Z",
     "shell.execute_reply": "2023-09-05T22:43:28.393978Z"
    },
    "papermill": {
     "duration": 0.027883,
     "end_time": "2023-09-05T22:43:28.398294",
     "exception": false,
     "start_time": "2023-09-05T22:43:28.370411",
     "status": "completed"
    },
    "tags": [],
    "ExecuteTime": {
     "end_time": "2025-02-22T17:01:59.695039Z",
     "start_time": "2025-02-22T17:01:59.689957Z"
    }
   },
   "source": [
    "def label_encode(df):\n",
    "    X = df.copy()\n",
    "    for colname in X.select_dtypes([\"category\"]):\n",
    "        X[colname] = X[colname].cat.codes\n",
    "    return X\n"
   ],
   "outputs": [],
   "execution_count": 17
  },
  {
   "cell_type": "markdown",
   "id": "01271475",
   "metadata": {
    "papermill": {
     "duration": 0.015237,
     "end_time": "2023-09-05T22:43:28.429288",
     "exception": false,
     "start_time": "2023-09-05T22:43:28.414051",
     "status": "completed"
    },
    "tags": []
   },
   "source": [
    "A label encoding is okay for any kind of categorical feature when you're using a tree-ensemble like XGBoost, even for unordered categories. If you wanted to try a linear regression model (also popular in this competition), you would instead want to use a one-hot encoding, especially for the features with unordered categories.\n",
    "\n",
    "## Create Features with Pandas ##\n",
    "\n",
    "This cell reproduces the work you did in Exercise 3, where you applied strategies for creating features in Pandas. Modify or add to these functions to try out other feature combinations."
   ]
  },
  {
   "cell_type": "code",
   "id": "6fa1869c",
   "metadata": {
    "_kg_hide-input": true,
    "execution": {
     "iopub.execute_input": "2023-09-05T22:43:28.462821Z",
     "iopub.status.busy": "2023-09-05T22:43:28.462345Z",
     "iopub.status.idle": "2023-09-05T22:43:28.473345Z",
     "shell.execute_reply": "2023-09-05T22:43:28.471934Z"
    },
    "papermill": {
     "duration": 0.030771,
     "end_time": "2023-09-05T22:43:28.476058",
     "exception": false,
     "start_time": "2023-09-05T22:43:28.445287",
     "status": "completed"
    },
    "tags": [],
    "ExecuteTime": {
     "end_time": "2025-02-22T17:02:06.216986Z",
     "start_time": "2025-02-22T17:02:06.210183Z"
    }
   },
   "source": [
    "\n",
    "def mathematical_transforms(df):\n",
    "    X = pd.DataFrame()  # dataframe to hold new features\n",
    "    X[\"LivLotRatio\"] = df.GrLivArea / df.LotArea\n",
    "    X[\"Spaciousness\"] = (df.FirstFlrSF + df.SecondFlrSF) / df.TotRmsAbvGrd\n",
    "    # This feature ended up not helping performance\n",
    "    # X[\"TotalOutsideSF\"] = \\\n",
    "    #     df.WoodDeckSF + df.OpenPorchSF + df.EnclosedPorch + \\\n",
    "    #     df.Threeseasonporch + df.ScreenPorch\n",
    "    return X\n",
    "\n",
    "\n",
    "def interactions(df):\n",
    "    X = pd.get_dummies(df.BldgType, prefix=\"Bldg\")\n",
    "    X = X.mul(df.GrLivArea, axis=0)\n",
    "    return X\n",
    "\n",
    "\n",
    "def counts(df):\n",
    "    X = pd.DataFrame()\n",
    "    X[\"PorchTypes\"] = df[[\n",
    "        \"WoodDeckSF\",\n",
    "        \"OpenPorchSF\",\n",
    "        \"EnclosedPorch\",\n",
    "        \"Threeseasonporch\",\n",
    "        \"ScreenPorch\",\n",
    "    ]].gt(0.0).sum(axis=1)\n",
    "    return X\n",
    "\n",
    "\n",
    "def break_down(df):\n",
    "    X = pd.DataFrame()\n",
    "    X[\"MSClass\"] = df.MSSubClass.str.split(\"_\", n=1, expand=True)[0]\n",
    "    return X\n",
    "\n",
    "\n",
    "def group_transforms(df):\n",
    "    X = pd.DataFrame()\n",
    "    X[\"MedNhbdArea\"] = df.groupby(\"Neighborhood\")[\"GrLivArea\"].transform(\"median\")\n",
    "    return X\n"
   ],
   "outputs": [],
   "execution_count": 18
  },
  {
   "cell_type": "markdown",
   "id": "86b015c1",
   "metadata": {
    "papermill": {
     "duration": 0.01563,
     "end_time": "2023-09-05T22:43:28.507228",
     "exception": false,
     "start_time": "2023-09-05T22:43:28.491598",
     "status": "completed"
    },
    "tags": []
   },
   "source": [
    "Here are some ideas for other transforms you could explore:\n",
    "- Interactions between the quality `Qual` and condition `Cond` features. `OverallQual`, for instance, was a high-scoring feature. You could try combining it with `OverallCond` by converting both to integer type and taking a product.\n",
    "- Square roots of area features. This would convert units of square feet to just feet.\n",
    "- Logarithms of numeric features. If a feature has a skewed distribution, applying a logarithm can help normalize it.\n",
    "- Interactions between numeric and categorical features that describe the same thing. You could look at interactions between `BsmtQual` and `TotalBsmtSF`, for instance.\n",
    "- Other group statistics in `Neighboorhood`. We did the median of `GrLivArea`. Looking at `mean`, `std`, or `count` could be interesting. You could also try combining the group statistics with other features. Maybe the *difference* of `GrLivArea` and the median is important?\n",
    "\n",
    "## k-Means Clustering ##\n",
    "\n",
    "The first unsupervised algorithm we used to create features was k-means clustering. We saw that you could either use the cluster labels as a feature (a column with `0, 1, 2, ...`) or you could use the *distance* of the observations to each cluster. We saw how these features can sometimes be effective at untangling complicated spatial relationships."
   ]
  },
  {
   "cell_type": "code",
   "id": "d12b3c8b",
   "metadata": {
    "_kg_hide-input": true,
    "execution": {
     "iopub.execute_input": "2023-09-05T22:43:28.541482Z",
     "iopub.status.busy": "2023-09-05T22:43:28.540102Z",
     "iopub.status.idle": "2023-09-05T22:43:28.551984Z",
     "shell.execute_reply": "2023-09-05T22:43:28.550439Z"
    },
    "lines_to_next_cell": 2,
    "papermill": {
     "duration": 0.032083,
     "end_time": "2023-09-05T22:43:28.555168",
     "exception": false,
     "start_time": "2023-09-05T22:43:28.523085",
     "status": "completed"
    },
    "tags": [],
    "ExecuteTime": {
     "end_time": "2025-02-22T17:02:14.296715Z",
     "start_time": "2025-02-22T17:02:14.290303Z"
    }
   },
   "source": [
    "\n",
    "cluster_features = [\n",
    "    \"LotArea\",\n",
    "    \"TotalBsmtSF\",\n",
    "    \"FirstFlrSF\",\n",
    "    \"SecondFlrSF\",\n",
    "    \"GrLivArea\",\n",
    "]\n",
    "\n",
    "\n",
    "def cluster_labels(df, features, n_clusters=20):\n",
    "    X = df.copy()\n",
    "    X_scaled = X.loc[:, features]\n",
    "    X_scaled = (X_scaled - X_scaled.mean(axis=0)) / X_scaled.std(axis=0)\n",
    "    kmeans = KMeans(n_clusters=n_clusters, n_init=50, random_state=0)\n",
    "    X_new = pd.DataFrame()\n",
    "    X_new[\"Cluster\"] = kmeans.fit_predict(X_scaled)\n",
    "    return X_new\n",
    "\n",
    "\n",
    "def cluster_distance(df, features, n_clusters=20):\n",
    "    X = df.copy()\n",
    "    X_scaled = X.loc[:, features]\n",
    "    X_scaled = (X_scaled - X_scaled.mean(axis=0)) / X_scaled.std(axis=0)\n",
    "    kmeans = KMeans(n_clusters=20, n_init=50, random_state=0)\n",
    "    X_cd = kmeans.fit_transform(X_scaled)\n",
    "    # Label features and join to dataset\n",
    "    X_cd = pd.DataFrame(\n",
    "        X_cd, columns=[f\"Centroid_{i}\" for i in range(X_cd.shape[1])]\n",
    "    )\n",
    "    return X_cd\n"
   ],
   "outputs": [],
   "execution_count": 19
  },
  {
   "cell_type": "markdown",
   "id": "eae5ca7c",
   "metadata": {
    "papermill": {
     "duration": 0.0154,
     "end_time": "2023-09-05T22:43:28.587248",
     "exception": false,
     "start_time": "2023-09-05T22:43:28.571848",
     "status": "completed"
    },
    "tags": []
   },
   "source": [
    "## Principal Component Analysis ##\n",
    "\n",
    "PCA was the second unsupervised model we used for feature creation. We saw how it could be used to decompose the variational structure in the data. The PCA algorithm gave us *loadings* which described each component of variation, and also the *components* which were the transformed datapoints. The loadings can suggest features to create and the components we can use as features directly.\n",
    "\n",
    "Here are the utility functions from the PCA lesson:"
   ]
  },
  {
   "cell_type": "code",
   "id": "76775863",
   "metadata": {
    "_kg_hide-input": true,
    "execution": {
     "iopub.execute_input": "2023-09-05T22:43:28.621709Z",
     "iopub.status.busy": "2023-09-05T22:43:28.621204Z",
     "iopub.status.idle": "2023-09-05T22:43:28.634733Z",
     "shell.execute_reply": "2023-09-05T22:43:28.633381Z"
    },
    "papermill": {
     "duration": 0.03425,
     "end_time": "2023-09-05T22:43:28.637603",
     "exception": false,
     "start_time": "2023-09-05T22:43:28.603353",
     "status": "completed"
    },
    "tags": [],
    "ExecuteTime": {
     "end_time": "2025-02-22T17:02:29.143431Z",
     "start_time": "2025-02-22T17:02:29.135050Z"
    }
   },
   "source": [
    "\n",
    "def apply_pca(X, standardize=True):\n",
    "    # Standardize\n",
    "    if standardize:\n",
    "        X = (X - X.mean(axis=0)) / X.std(axis=0)\n",
    "    # Create principal components\n",
    "    pca = PCA()\n",
    "    X_pca = pca.fit_transform(X)\n",
    "    # Convert to dataframe\n",
    "    component_names = [f\"PC{i+1}\" for i in range(X_pca.shape[1])]\n",
    "    X_pca = pd.DataFrame(X_pca, columns=component_names)\n",
    "    # Create loadings\n",
    "    loadings = pd.DataFrame(\n",
    "        pca.components_.T,  # transpose the matrix of loadings\n",
    "        columns=component_names,  # so the columns are the principal components\n",
    "        index=X.columns,  # and the rows are the original features\n",
    "    )\n",
    "    return pca, X_pca, loadings\n",
    "\n",
    "\n",
    "def plot_variance(pca, width=8, dpi=100):\n",
    "    # Create figure\n",
    "    fig, axs = plt.subplots(1, 2)\n",
    "    n = pca.n_components_\n",
    "    grid = np.arange(1, n + 1)\n",
    "    # Explained variance\n",
    "    evr = pca.explained_variance_ratio_\n",
    "    axs[0].bar(grid, evr)\n",
    "    axs[0].set(\n",
    "        xlabel=\"Component\", title=\"% Explained Variance\", ylim=(0.0, 1.0)\n",
    "    )\n",
    "    # Cumulative Variance\n",
    "    cv = np.cumsum(evr)\n",
    "    axs[1].plot(np.r_[0, grid], np.r_[0, cv], \"o-\")\n",
    "    axs[1].set(\n",
    "        xlabel=\"Component\", title=\"% Cumulative Variance\", ylim=(0.0, 1.0)\n",
    "    )\n",
    "    # Set up figure\n",
    "    fig.set(figwidth=8, dpi=100)\n",
    "    return axs\n"
   ],
   "outputs": [],
   "execution_count": 20
  },
  {
   "cell_type": "markdown",
   "id": "16915170",
   "metadata": {
    "papermill": {
     "duration": 0.015233,
     "end_time": "2023-09-05T22:43:28.668625",
     "exception": false,
     "start_time": "2023-09-05T22:43:28.653392",
     "status": "completed"
    },
    "tags": []
   },
   "source": [
    "And here are transforms that produce the features from the Exercise 5. You might want to change these if you came up with a different answer.\n"
   ]
  },
  {
   "cell_type": "code",
   "id": "62ce238f",
   "metadata": {
    "_kg_hide-input": true,
    "execution": {
     "iopub.execute_input": "2023-09-05T22:43:28.703223Z",
     "iopub.status.busy": "2023-09-05T22:43:28.702708Z",
     "iopub.status.idle": "2023-09-05T22:43:28.709978Z",
     "shell.execute_reply": "2023-09-05T22:43:28.708704Z"
    },
    "papermill": {
     "duration": 0.027542,
     "end_time": "2023-09-05T22:43:28.712652",
     "exception": false,
     "start_time": "2023-09-05T22:43:28.685110",
     "status": "completed"
    },
    "tags": [],
    "ExecuteTime": {
     "end_time": "2025-02-22T17:02:36.574039Z",
     "start_time": "2025-02-22T17:02:36.569053Z"
    }
   },
   "source": [
    "\n",
    "def pca_inspired(df):\n",
    "    X = pd.DataFrame()\n",
    "    X[\"Feature1\"] = df.GrLivArea + df.TotalBsmtSF\n",
    "    X[\"Feature2\"] = df.YearRemodAdd * df.TotalBsmtSF\n",
    "    return X\n",
    "\n",
    "\n",
    "def pca_components(df, features):\n",
    "    X = df.loc[:, features]\n",
    "    _, X_pca, _ = apply_pca(X)\n",
    "    return X_pca\n",
    "\n",
    "\n",
    "pca_features = [\n",
    "    \"GarageArea\",\n",
    "    \"YearRemodAdd\",\n",
    "    \"TotalBsmtSF\",\n",
    "    \"GrLivArea\",\n",
    "]"
   ],
   "outputs": [],
   "execution_count": 21
  },
  {
   "cell_type": "markdown",
   "id": "d912d735",
   "metadata": {
    "papermill": {
     "duration": 0.015998,
     "end_time": "2023-09-05T22:43:28.744472",
     "exception": false,
     "start_time": "2023-09-05T22:43:28.728474",
     "status": "completed"
    },
    "tags": []
   },
   "source": [
    "These are only a couple ways you could use the principal components. You could also try clustering using one or more components. One thing to note is that PCA doesn't change the distance between points -- it's just like a rotation. So clustering with the full set of components is the same as clustering with the original features. Instead, pick some subset of components, maybe those with the most variance or the highest MI scores.\n",
    "\n",
    "For further analysis, you might want to look at a correlation matrix for the dataset:"
   ]
  },
  {
   "cell_type": "code",
   "id": "9739d769",
   "metadata": {
    "execution": {
     "iopub.execute_input": "2023-09-05T22:43:28.779142Z",
     "iopub.status.busy": "2023-09-05T22:43:28.777840Z",
     "iopub.status.idle": "2023-09-05T22:43:30.615870Z",
     "shell.execute_reply": "2023-09-05T22:43:30.614632Z"
    },
    "papermill": {
     "duration": 1.859936,
     "end_time": "2023-09-05T22:43:30.620515",
     "exception": false,
     "start_time": "2023-09-05T22:43:28.760579",
     "status": "completed"
    },
    "tags": [],
    "ExecuteTime": {
     "end_time": "2025-02-22T17:02:49.876503Z",
     "start_time": "2025-02-22T17:02:48.938047Z"
    }
   },
   "source": [
    "def corrplot(df, method=\"pearson\", annot=True, **kwargs):\n",
    "    sns.clustermap(\n",
    "        df.corr(method, numeric_only=True),\n",
    "        vmin=-1.0,\n",
    "        vmax=1.0,\n",
    "        cmap=\"icefire\",\n",
    "        method=\"complete\",\n",
    "        annot=annot,\n",
    "        **kwargs,\n",
    "    )\n",
    "\n",
    "\n",
    "corrplot(df_train, annot=None)"
   ],
   "outputs": [
    {
     "data": {
      "text/plain": [
       "<Figure size 1000x1000 with 4 Axes>"
      ],
      "image/png": "[encoded data removed]"
     },
     "metadata": {},
     "output_type": "display_data"
    }
   ],
   "execution_count": 22
  },
  {
   "cell_type": "markdown",
   "id": "7b35ea5b",
   "metadata": {
    "papermill": {
     "duration": 0.018036,
     "end_time": "2023-09-05T22:43:30.657042",
     "exception": false,
     "start_time": "2023-09-05T22:43:30.639006",
     "status": "completed"
    },
    "tags": []
   },
   "source": [
    "Groups of highly correlated features often yield interesting loadings.\n",
    "\n",
    "### PCA Application - Indicate Outliers ###\n",
    "\n",
    "In Exercise 5, you applied PCA to determine houses that were **outliers**, that is, houses having values not well represented in the rest of the data. You saw that there was a group of houses in the `Edwards` neighborhood having a `SaleCondition` of `Partial` whose values were especially extreme.\n",
    "\n",
    "Some models can benefit from having these outliers indicated, which is what this next transform will do."
   ]
  },
  {
   "cell_type": "code",
   "id": "93dff5f8",
   "metadata": {
    "execution": {
     "iopub.execute_input": "2023-09-05T22:43:30.696361Z",
     "iopub.status.busy": "2023-09-05T22:43:30.695331Z",
     "iopub.status.idle": "2023-09-05T22:43:30.701745Z",
     "shell.execute_reply": "2023-09-05T22:43:30.700729Z"
    },
    "papermill": {
     "duration": 0.02917,
     "end_time": "2023-09-05T22:43:30.704594",
     "exception": false,
     "start_time": "2023-09-05T22:43:30.675424",
     "status": "completed"
    },
    "tags": [],
    "ExecuteTime": {
     "end_time": "2025-02-22T17:02:57.507313Z",
     "start_time": "2025-02-22T17:02:57.501705Z"
    }
   },
   "source": [
    "def indicate_outliers(df):\n",
    "    X_new = pd.DataFrame()\n",
    "    X_new[\"Outlier\"] = (df.Neighborhood == \"Edwards\") & (df.SaleCondition == \"Partial\")\n",
    "    return X_new\n"
   ],
   "outputs": [],
   "execution_count": 23
  },
  {
   "cell_type": "markdown",
   "id": "38755a81",
   "metadata": {
    "papermill": {
     "duration": 0.017463,
     "end_time": "2023-09-05T22:43:30.740746",
     "exception": false,
     "start_time": "2023-09-05T22:43:30.723283",
     "status": "completed"
    },
    "tags": []
   },
   "source": [
    "You could also consider applying some sort of robust scaler from scikit-learn's `sklearn.preprocessing` module to the outlying values, especially those in `GrLivArea`. [Here](https://scikit-learn.org/stable/auto_examples/preprocessing/plot_all_scaling.html) is a tutorial illustrating some of them. Another option could be to create a feature of \"outlier scores\" using one of scikit-learn's [outlier detectors](https://scikit-learn.org/stable/modules/outlier_detection.html)."
   ]
  },
  {
   "cell_type": "markdown",
   "id": "c158738d",
   "metadata": {
    "papermill": {
     "duration": 0.017441,
     "end_time": "2023-09-05T22:43:30.776901",
     "exception": false,
     "start_time": "2023-09-05T22:43:30.759460",
     "status": "completed"
    },
    "tags": []
   },
   "source": [
    "## Target Encoding ##\n",
    "\n",
    "Needing a separate holdout set to create a target encoding is rather wasteful of data. In *Tutorial 6* we used 25% of our dataset just to encode a single feature, `Zipcode`. The data from the other features in that 25% we didn't get to use at all.\n",
    "\n",
    "There is, however, a way you can use target encoding without having to use held-out encoding data. It's basically the same trick used in cross-validation:\n",
    "1. Split the data into folds, each fold having two splits of the dataset.\n",
    "2. Train the encoder on one split but transform the values of the other.\n",
    "3. Repeat for all the splits.\n",
    "\n",
    "This way, training and transformation always take place on independent sets of data, just like when you use a holdout set but without any data going to waste.\n",
    "\n",
    "In the next hidden cell is a wrapper you can use with any target encoder:"
   ]
  },
  {
   "cell_type": "code",
   "id": "ba3546b0",
   "metadata": {
    "_kg_hide-input": true,
    "execution": {
     "iopub.execute_input": "2023-09-05T22:43:30.816080Z",
     "iopub.status.busy": "2023-09-05T22:43:30.815523Z",
     "iopub.status.idle": "2023-09-05T22:43:30.830432Z",
     "shell.execute_reply": "2023-09-05T22:43:30.829082Z"
    },
    "papermill": {
     "duration": 0.037431,
     "end_time": "2023-09-05T22:43:30.833071",
     "exception": false,
     "start_time": "2023-09-05T22:43:30.795640",
     "status": "completed"
    },
    "tags": [],
    "ExecuteTime": {
     "end_time": "2025-02-22T17:03:04.296821Z",
     "start_time": "2025-02-22T17:03:04.286954Z"
    }
   },
   "source": [
    "\n",
    "class CrossFoldEncoder:\n",
    "    def __init__(self, encoder, **kwargs):\n",
    "        self.encoder_ = encoder\n",
    "        self.kwargs_ = kwargs  # keyword arguments for the encoder\n",
    "        self.cv_ = KFold(n_splits=5)\n",
    "\n",
    "    # Fit an encoder on one split and transform the feature on the\n",
    "    # other. Iterating over the splits in all folds gives a complete\n",
    "    # transformation. We also now have one trained encoder on each\n",
    "    # fold.\n",
    "    def fit_transform(self, X, y, cols):\n",
    "        self.fitted_encoders_ = []\n",
    "        self.cols_ = cols\n",
    "        X_encoded = []\n",
    "        for idx_encode, idx_train in self.cv_.split(X):\n",
    "            fitted_encoder = self.encoder_(cols=cols, **self.kwargs_)\n",
    "            fitted_encoder.fit(\n",
    "                X.iloc[idx_encode, :], y.iloc[idx_encode],\n",
    "            )\n",
    "            X_encoded.append(fitted_encoder.transform(X.iloc[idx_train, :])[cols])\n",
    "            self.fitted_encoders_.append(fitted_encoder)\n",
    "        X_encoded = pd.concat(X_encoded)\n",
    "        X_encoded.columns = [name + \"_encoded\" for name in X_encoded.columns]\n",
    "        return X_encoded\n",
    "\n",
    "    # To transform the test data, average the encodings learned from\n",
    "    # each fold.\n",
    "    def transform(self, X):\n",
    "        from functools import reduce\n",
    "\n",
    "        X_encoded_list = []\n",
    "        for fitted_encoder in self.fitted_encoders_:\n",
    "            X_encoded = fitted_encoder.transform(X)\n",
    "            X_encoded_list.append(X_encoded[self.cols_])\n",
    "        X_encoded = reduce(\n",
    "            lambda x, y: x.add(y, fill_value=0), X_encoded_list\n",
    "        ) / len(X_encoded_list)\n",
    "        X_encoded.columns = [name + \"_encoded\" for name in X_encoded.columns]\n",
    "        return X_encoded\n"
   ],
   "outputs": [],
   "execution_count": 24
  },
  {
   "cell_type": "markdown",
   "id": "9dc88d7f",
   "metadata": {
    "papermill": {
     "duration": 0.017609,
     "end_time": "2023-09-05T22:43:30.868956",
     "exception": false,
     "start_time": "2023-09-05T22:43:30.851347",
     "status": "completed"
    },
    "tags": []
   },
   "source": [
    "Use it like:\n",
    "\n",
    "```\n",
    "encoder = CrossFoldEncoder(MEstimateEncoder, m=1)\n",
    "X_encoded = encoder.fit_transform(X, y, cols=[\"MSSubClass\"]))\n",
    "```\n",
    "\n",
    "You can turn any of the encoders from the [`category_encoders`](http://contrib.scikit-learn.org/category_encoders/) library into a cross-fold encoder. The [`CatBoostEncoder`](http://contrib.scikit-learn.org/category_encoders/catboost.html) would be worth trying. It's similar to `MEstimateEncoder` but uses some tricks to better prevent overfitting. Its smoothing parameter is called `a` instead of `m`.\n",
    "\n",
    "## Create Final Feature Set ##\n",
    "\n",
    "Now let's combine everything together. Putting the transformations into separate functions makes it easier to experiment with various combinations. The ones I left uncommented I found gave the best results. You should experiment with you own ideas though! Modify any of these transformations or come up with some of your own to add to the pipeline."
   ]
  },
  {
   "cell_type": "code",
   "id": "afc39214",
   "metadata": {
    "execution": {
     "iopub.execute_input": "2023-09-05T22:43:30.907667Z",
     "iopub.status.busy": "2023-09-05T22:43:30.907152Z",
     "iopub.status.idle": "2023-09-05T22:43:36.269758Z",
     "shell.execute_reply": "2023-09-05T22:43:36.268583Z"
    },
    "papermill": {
     "duration": 5.385591,
     "end_time": "2023-09-05T22:43:36.272651",
     "exception": false,
     "start_time": "2023-09-05T22:43:30.887060",
     "status": "completed"
    },
    "tags": [],
    "ExecuteTime": {
     "end_time": "2025-02-22T17:03:17.405317Z",
     "start_time": "2025-02-22T17:03:11.610474Z"
    }
   },
   "source": [
    "def create_features(df, df_test=None):\n",
    "    X = df.copy()\n",
    "    y = X.pop(\"SalePrice\")\n",
    "    mi_scores = make_mi_scores(X, y)\n",
    "\n",
    "    # Combine splits if test data is given\n",
    "    #\n",
    "    # If we're creating features for test set predictions, we should\n",
    "    # use all the data we have available. After creating our features,\n",
    "    # we'll recreate the splits.\n",
    "    if df_test is not None:\n",
    "        X_test = df_test.copy()\n",
    "        X_test.pop(\"SalePrice\")\n",
    "        X = pd.concat([X, X_test])\n",
    "\n",
    "    # Lesson 2 - Mutual Information\n",
    "    X = drop_uninformative(X, mi_scores)\n",
    "\n",
    "    # Lesson 3 - Transformations\n",
    "    X = X.join(mathematical_transforms(X))\n",
    "    X = X.join(interactions(X))\n",
    "    X = X.join(counts(X))\n",
    "    # X = X.join(break_down(X))\n",
    "    X = X.join(group_transforms(X))\n",
    "\n",
    "    # Lesson 4 - Clustering\n",
    "    # X = X.join(cluster_labels(X, cluster_features, n_clusters=20))\n",
    "    # X = X.join(cluster_distance(X, cluster_features, n_clusters=20))\n",
    "\n",
    "    # Lesson 5 - PCA\n",
    "    X = X.join(pca_inspired(X))\n",
    "    # X = X.join(pca_components(X, pca_features))\n",
    "    # X = X.join(indicate_outliers(X))\n",
    "\n",
    "    X = label_encode(X)\n",
    "\n",
    "    # Reform splits\n",
    "    if df_test is not None:\n",
    "        X_test = X.loc[df_test.index, :]\n",
    "        X.drop(df_test.index, inplace=True)\n",
    "\n",
    "    # Lesson 6 - Target Encoder\n",
    "    encoder = CrossFoldEncoder(MEstimateEncoder, m=1)\n",
    "    X = X.join(encoder.fit_transform(X, y, cols=[\"MSSubClass\"]))\n",
    "    if df_test is not None:\n",
    "        X_test = X_test.join(encoder.transform(X_test))\n",
    "\n",
    "    if df_test is not None:\n",
    "        return X, X_test\n",
    "    else:\n",
    "        return X\n",
    "\n",
    "\n",
    "df_train, df_test = load_data()\n",
    "X_train = create_features(df_train)\n",
    "y_train = df_train.loc[:, \"SalePrice\"]\n",
    "\n",
    "score_dataset(X_train, y_train)"
   ],
   "outputs": [
    {
     "data": {
      "text/plain": [
       "np.float64(0.13694237566469133)"
      ]
     },
     "execution_count": 25,
     "metadata": {},
     "output_type": "execute_result"
    }
   ],
   "execution_count": 25
  },
  {
   "cell_type": "markdown",
   "id": "dcd83867",
   "metadata": {
    "papermill": {
     "duration": 0.018653,
     "end_time": "2023-09-05T22:43:36.313400",
     "exception": false,
     "start_time": "2023-09-05T22:43:36.294747",
     "status": "completed"
    },
    "tags": []
   },
   "source": [
    "# Step 4 - Hyperparameter Tuning #\n",
    "\n",
    "At this stage, you might like to do some hyperparameter tuning with XGBoost before creating your final submission."
   ]
  },
  {
   "cell_type": "code",
   "id": "75246249",
   "metadata": {
    "execution": {
     "iopub.execute_input": "2023-09-05T22:43:36.353852Z",
     "iopub.status.busy": "2023-09-05T22:43:36.353373Z",
     "iopub.status.idle": "2023-09-05T22:43:56.133483Z",
     "shell.execute_reply": "2023-09-05T22:43:56.132191Z"
    },
    "papermill": {
     "duration": 19.803461,
     "end_time": "2023-09-05T22:43:56.136636",
     "exception": false,
     "start_time": "2023-09-05T22:43:36.333175",
     "status": "completed"
    },
    "tags": [],
    "ExecuteTime": {
     "end_time": "2025-02-22T17:04:32.791159Z",
     "start_time": "2025-02-22T17:04:15.369689Z"
    }
   },
   "source": [
    "X_train = create_features(df_train)\n",
    "y_train = df_train.loc[:, \"SalePrice\"]\n",
    "\n",
    "xgb_params = dict(\n",
    "    max_depth=6,           # maximum depth of each tree - try 2 to 10\n",
    "    learning_rate=0.01,    # effect of each tree - try 0.0001 to 0.1\n",
    "    n_estimators=1000,     # number of trees (that is, boosting rounds) - try 1000 to 8000\n",
    "    min_child_weight=1,    # minimum number of houses in a leaf - try 1 to 10\n",
    "    colsample_bytree=0.7,  # fraction of features (columns) per tree - try 0.2 to 1.0\n",
    "    subsample=0.7,         # fraction of instances (rows) per tree - try 0.2 to 1.0\n",
    "    reg_alpha=0.5,         # L1 regularization (like LASSO) - try 0.0 to 10.0\n",
    "    reg_lambda=1.0,        # L2 regularization (like Ridge) - try 0.0 to 10.0\n",
    "    num_parallel_tree=1,   # set > 1 for boosted random forests\n",
    ")\n",
    "\n",
    "xgb = XGBRegressor(**xgb_params)\n",
    "score_dataset(X_train, y_train, xgb)"
   ],
   "outputs": [
    {
     "data": {
      "text/plain": [
       "np.float64(0.1249754006269867)"
      ]
     },
     "execution_count": 27,
     "metadata": {},
     "output_type": "execute_result"
    }
   ],
   "execution_count": 27
  },
  {
   "cell_type": "markdown",
   "id": "53be7120",
   "metadata": {
    "papermill": {
     "duration": 0.01852,
     "end_time": "2023-09-05T22:43:56.174878",
     "exception": false,
     "start_time": "2023-09-05T22:43:56.156358",
     "status": "completed"
    },
    "tags": []
   },
   "source": [
    "Just tuning these by hand can give you great results. However, you might like to try using one of scikit-learn's automatic [hyperparameter tuners](https://scikit-learn.org/stable/modules/grid_search.html). Or you could explore more advanced tuning libraries like [Optuna](https://optuna.readthedocs.io/en/stable/index.html) or [scikit-optimize](https://scikit-optimize.github.io/stable/).\n",
    "\n",
    "Here is how you can use Optuna with XGBoost:\n",
    "\n",
    "```\n",
    "import optuna\n",
    "\n",
    "def objective(trial):\n",
    "    xgb_params = dict(\n",
    "        max_depth=trial.suggest_int(\"max_depth\", 2, 10),\n",
    "        learning_rate=trial.suggest_float(\"learning_rate\", 1e-4, 1e-1, log=True),\n",
    "        n_estimators=trial.suggest_int(\"n_estimators\", 1000, 8000),\n",
    "        min_child_weight=trial.suggest_int(\"min_child_weight\", 1, 10),\n",
    "        colsample_bytree=trial.suggest_float(\"colsample_bytree\", 0.2, 1.0),\n",
    "        subsample=trial.suggest_float(\"subsample\", 0.2, 1.0),\n",
    "        reg_alpha=trial.suggest_float(\"reg_alpha\", 1e-4, 1e2, log=True),\n",
    "        reg_lambda=trial.suggest_float(\"reg_lambda\", 1e-4, 1e2, log=True),\n",
    "    )\n",
    "    xgb = XGBRegressor(**xgb_params)\n",
    "    return score_dataset(X_train, y_train, xgb)\n",
    "\n",
    "study = optuna.create_study(direction=\"minimize\")\n",
    "study.optimize(objective, n_trials=20)\n",
    "xgb_params = study.best_params\n",
    "```\n",
    "\n",
    "Copy this into a code cell if you'd like to use it, but be aware that it will take quite a while to run. After it's done, you might enjoy using some of [Optuna's visualizations](https://optuna.readthedocs.io/en/stable/tutorial/10_key_features/005_visualization.html).\n",
    "\n",
    "# Step 5 - Train Model and Create Submissions #\n",
    "\n",
    "Once you're satisfied with everything, it's time to create your final predictions! This cell will:\n",
    "- create your feature set from the original data\n",
    "- train XGBoost on the training data\n",
    "- use the trained model to make predictions from the test set\n",
    "- save the predictions to a CSV file"
   ]
  },
  {
   "cell_type": "code",
   "id": "24e9fe6b",
   "metadata": {
    "execution": {
     "iopub.execute_input": "2023-09-05T22:43:56.215621Z",
     "iopub.status.busy": "2023-09-05T22:43:56.214629Z",
     "iopub.status.idle": "2023-09-05T22:44:04.273273Z",
     "shell.execute_reply": "2023-09-05T22:44:04.272218Z"
    },
    "papermill": {
     "duration": 8.082405,
     "end_time": "2023-09-05T22:44:04.276352",
     "exception": false,
     "start_time": "2023-09-05T22:43:56.193947",
     "status": "completed"
    },
    "tags": [],
    "ExecuteTime": {
     "end_time": "2025-02-22T17:04:55.280141Z",
     "start_time": "2025-02-22T17:04:48.268829Z"
    }
   },
   "source": [
    "X_train, X_test = create_features(df_train, df_test)\n",
    "y_train = df_train.loc[:, \"SalePrice\"]\n",
    "\n",
    "xgb = XGBRegressor(**xgb_params)\n",
    "# XGB minimizes MSE, but competition loss is RMSLE\n",
    "# So, we need to log-transform y to train and exp-transform the predictions\n",
    "xgb.fit(X_train, np.log(y))\n",
    "predictions = np.exp(xgb.predict(X_test))\n",
    "\n",
    "output = pd.DataFrame({'Id': X_test.index, 'SalePrice': predictions})\n",
    "output.to_csv('my_submission.csv', index=False)\n",
    "print(\"Your submission was successfully saved!\")"
   ],
   "outputs": [
    {
     "name": "stdout",
     "output_type": "stream",
     "text": [
      "Your submission was successfully saved!\n"
     ]
    }
   ],
   "execution_count": 28
  },
  {
   "cell_type": "markdown",
   "id": "c7e3620c",
   "metadata": {
    "papermill": {
     "duration": 0.018343,
     "end_time": "2023-09-05T22:44:04.313422",
     "exception": false,
     "start_time": "2023-09-05T22:44:04.295079",
     "status": "completed"
    },
    "tags": []
   },
   "source": [
    "**Copyright**\n",
    "\n",
    "The notebooks are provided as [Open Educational Resource](https://de.wikipedia.org/wiki/Open_Educational_Resources). Feel free to use the notebooks for your own educational purposes. The text is licensed under [Creative Commons Attribution 4.0](https://creativecommons.org/licenses/by/4.0/), the code of the IPython examples under the [MIT license](https://opensource.org/licenses/MIT).\n",
    "\n"
   ]
  },
  {
   "cell_type": "code",
   "outputs": [],
   "source": [],
   "metadata": {
    "collapsed": false
   },
   "id": "b0bc9efecd0247d0",
   "execution_count": null
  }
 ],
 "metadata": {
  "jupytext": {
   "cell_metadata_filter": "-all",
   "formats": "ipynb"
  },
  "kernelspec": {
   "display_name": "Python 3",
   "language": "python",
   "name": "python3"
  },
  "language_info": {
   "codemirror_mode": {
    "name": "ipython",
    "version": 3
   },
   "file_extension": ".py",
   "mimetype": "text/x-python",
   "name": "python",
   "nbconvert_exporter": "python",
   "pygments_lexer": "ipython3",
   "version": "3.10.12"
  },
  "papermill": {
   "default_parameters": {},
   "duration": 54.735819,
   "end_time": "2023-09-05T22:44:05.396199",
   "environment_variables": {},
   "exception": null,
   "input_path": "__notebook__.ipynb",
   "output_path": "__notebook__.ipynb",
   "parameters": {},
   "start_time": "2023-09-05T22:43:10.660380",
   "version": "2.4.0"
  }
 },
 "nbformat": 4,
 "nbformat_minor": 5
}
